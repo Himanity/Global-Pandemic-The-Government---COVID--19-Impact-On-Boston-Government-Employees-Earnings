{
  "nbformat": 4,
  "nbformat_minor": 0,
  "metadata": {
    "colab": {
      "provenance": [],
      "authorship_tag": "ABX9TyOYY3NNsbE6HsV//xOlHzLJ",
      "include_colab_link": true
    },
    "kernelspec": {
      "name": "python3",
      "display_name": "Python 3"
    },
    "language_info": {
      "name": "python"
    }
  },
  "cells": [
    {
      "cell_type": "markdown",
      "metadata": {
        "id": "view-in-github",
        "colab_type": "text"
      },
      "source": [
        "<a href=\"https://colab.research.google.com/github/Himanity/BA775_Global-Pandemic-The-Government---COVID--19-Impact-On-Boston-Government-Employees-Earnings/blob/main/Assignment_1.ipynb\" target=\"_parent\"><img src=\"https://colab.research.google.com/assets/colab-badge.svg\" alt=\"Open In Colab\"/></a>"
      ]
    },
    {
      "cell_type": "markdown",
      "source": [
          "## Assignment 1\n",
    " Himani Tyagi \n",
        "Question 2"
      ],
      "metadata": {
        "id": "Gt7UJx03cGtD"
      }
    },
    {
      "cell_type": "code",
      "execution_count": 2,
      "metadata": {
        "colab": {
          "base_uri": "https://localhost:8080/",
          "height": 206
        },
        "id": "ItRilhqfZr_S",
        "outputId": "7b5dbb45-c159-44b2-a620-eaeac9f4871a"
      },
      "outputs": [
        {
          "output_type": "execute_result",
          "data": {
            "text/plain": [
              "                                            headline  \\\n",
              "0  Let’s See … Hire Cops, Pay Teachers, Buy Books...   \n",
              "1  Let’s See … Hire Cops, Pay Teachers, Buy Books...   \n",
              "2  Let’s See … Hire Cops, Pay Teachers, Buy Books...   \n",
              "3  Let’s See … Hire Cops, Pay Teachers, Buy Books...   \n",
              "4  Let’s See … Hire Cops, Pay Teachers, Buy Books...   \n",
              "\n",
              "                                                slug  \\\n",
              "0  let-s-see-hire-cops-pay-teachers-buy-books-for...   \n",
              "1  let-s-see-hire-cops-pay-teachers-buy-books-for...   \n",
              "2  let-s-see-hire-cops-pay-teachers-buy-books-for...   \n",
              "3  let-s-see-hire-cops-pay-teachers-buy-books-for...   \n",
              "4  let-s-see-hire-cops-pay-teachers-buy-books-for...   \n",
              "\n",
              "              eyecatcher_id  clicked  slug_legally  random_variable  \n",
              "0  546dce659ad54ec65b000041        1             0              4.0  \n",
              "1  546dce659ad54ec65b000041        1             0              8.0  \n",
              "2  546dce659ad54ec65b000041        1             0              5.0  \n",
              "3  546dce659ad54ec65b000041        1             0              6.0  \n",
              "4  546dce659ad54ec65b000041        1             0              6.0  "
            ],
            "text/html": [
              "\n",
              "  <div id=\"df-51ec68c0-7bfd-4c45-b043-8a21c6bf84e5\" class=\"colab-df-container\">\n",
              "    <div>\n",
              "<style scoped>\n",
              "    .dataframe tbody tr th:only-of-type {\n",
              "        vertical-align: middle;\n",
              "    }\n",
              "\n",
              "    .dataframe tbody tr th {\n",
              "        vertical-align: top;\n",
              "    }\n",
              "\n",
              "    .dataframe thead th {\n",
              "        text-align: right;\n",
              "    }\n",
              "</style>\n",
              "<table border=\"1\" class=\"dataframe\">\n",
              "  <thead>\n",
              "    <tr style=\"text-align: right;\">\n",
              "      <th></th>\n",
              "      <th>headline</th>\n",
              "      <th>slug</th>\n",
              "      <th>eyecatcher_id</th>\n",
              "      <th>clicked</th>\n",
              "      <th>slug_legally</th>\n",
              "      <th>random_variable</th>\n",
              "    </tr>\n",
              "  </thead>\n",
              "  <tbody>\n",
              "    <tr>\n",
              "      <th>0</th>\n",
              "      <td>Let’s See … Hire Cops, Pay Teachers, Buy Books...</td>\n",
              "      <td>let-s-see-hire-cops-pay-teachers-buy-books-for...</td>\n",
              "      <td>546dce659ad54ec65b000041</td>\n",
              "      <td>1</td>\n",
              "      <td>0</td>\n",
              "      <td>4.0</td>\n",
              "    </tr>\n",
              "    <tr>\n",
              "      <th>1</th>\n",
              "      <td>Let’s See … Hire Cops, Pay Teachers, Buy Books...</td>\n",
              "      <td>let-s-see-hire-cops-pay-teachers-buy-books-for...</td>\n",
              "      <td>546dce659ad54ec65b000041</td>\n",
              "      <td>1</td>\n",
              "      <td>0</td>\n",
              "      <td>8.0</td>\n",
              "    </tr>\n",
              "    <tr>\n",
              "      <th>2</th>\n",
              "      <td>Let’s See … Hire Cops, Pay Teachers, Buy Books...</td>\n",
              "      <td>let-s-see-hire-cops-pay-teachers-buy-books-for...</td>\n",
              "      <td>546dce659ad54ec65b000041</td>\n",
              "      <td>1</td>\n",
              "      <td>0</td>\n",
              "      <td>5.0</td>\n",
              "    </tr>\n",
              "    <tr>\n",
              "      <th>3</th>\n",
              "      <td>Let’s See … Hire Cops, Pay Teachers, Buy Books...</td>\n",
              "      <td>let-s-see-hire-cops-pay-teachers-buy-books-for...</td>\n",
              "      <td>546dce659ad54ec65b000041</td>\n",
              "      <td>1</td>\n",
              "      <td>0</td>\n",
              "      <td>6.0</td>\n",
              "    </tr>\n",
              "    <tr>\n",
              "      <th>4</th>\n",
              "      <td>Let’s See … Hire Cops, Pay Teachers, Buy Books...</td>\n",
              "      <td>let-s-see-hire-cops-pay-teachers-buy-books-for...</td>\n",
              "      <td>546dce659ad54ec65b000041</td>\n",
              "      <td>1</td>\n",
              "      <td>0</td>\n",
              "      <td>6.0</td>\n",
              "    </tr>\n",
              "  </tbody>\n",
              "</table>\n",
              "</div>\n",
              "    <div class=\"colab-df-buttons\">\n",
              "\n",
              "  <div class=\"colab-df-container\">\n",
              "    <button class=\"colab-df-convert\" onclick=\"convertToInteractive('df-51ec68c0-7bfd-4c45-b043-8a21c6bf84e5')\"\n",
              "            title=\"Convert this dataframe to an interactive table.\"\n",
              "            style=\"display:none;\">\n",
              "\n",
              "  <svg xmlns=\"http://www.w3.org/2000/svg\" height=\"24px\" viewBox=\"0 -960 960 960\">\n",
              "    <path d=\"M120-120v-720h720v720H120Zm60-500h600v-160H180v160Zm220 220h160v-160H400v160Zm0 220h160v-160H400v160ZM180-400h160v-160H180v160Zm440 0h160v-160H620v160ZM180-180h160v-160H180v160Zm440 0h160v-160H620v160Z\"/>\n",
              "  </svg>\n",
              "    </button>\n",
              "\n",
              "  <style>\n",
              "    .colab-df-container {\n",
              "      display:flex;\n",
              "      gap: 12px;\n",
              "    }\n",
              "\n",
              "    .colab-df-convert {\n",
              "      background-color: #E8F0FE;\n",
              "      border: none;\n",
              "      border-radius: 50%;\n",
              "      cursor: pointer;\n",
              "      display: none;\n",
              "      fill: #1967D2;\n",
              "      height: 32px;\n",
              "      padding: 0 0 0 0;\n",
              "      width: 32px;\n",
              "    }\n",
              "\n",
              "    .colab-df-convert:hover {\n",
              "      background-color: #E2EBFA;\n",
              "      box-shadow: 0px 1px 2px rgba(60, 64, 67, 0.3), 0px 1px 3px 1px rgba(60, 64, 67, 0.15);\n",
              "      fill: #174EA6;\n",
              "    }\n",
              "\n",
              "    .colab-df-buttons div {\n",
              "      margin-bottom: 4px;\n",
              "    }\n",
              "\n",
              "    [theme=dark] .colab-df-convert {\n",
              "      background-color: #3B4455;\n",
              "      fill: #D2E3FC;\n",
              "    }\n",
              "\n",
              "    [theme=dark] .colab-df-convert:hover {\n",
              "      background-color: #434B5C;\n",
              "      box-shadow: 0px 1px 3px 1px rgba(0, 0, 0, 0.15);\n",
              "      filter: drop-shadow(0px 1px 2px rgba(0, 0, 0, 0.3));\n",
              "      fill: #FFFFFF;\n",
              "    }\n",
              "  </style>\n",
              "\n",
              "    <script>\n",
              "      const buttonEl =\n",
              "        document.querySelector('#df-51ec68c0-7bfd-4c45-b043-8a21c6bf84e5 button.colab-df-convert');\n",
              "      buttonEl.style.display =\n",
              "        google.colab.kernel.accessAllowed ? 'block' : 'none';\n",
              "\n",
              "      async function convertToInteractive(key) {\n",
              "        const element = document.querySelector('#df-51ec68c0-7bfd-4c45-b043-8a21c6bf84e5');\n",
              "        const dataTable =\n",
              "          await google.colab.kernel.invokeFunction('convertToInteractive',\n",
              "                                                    [key], {});\n",
              "        if (!dataTable) return;\n",
              "\n",
              "        const docLinkHtml = 'Like what you see? Visit the ' +\n",
              "          '<a target=\"_blank\" href=https://colab.research.google.com/notebooks/data_table.ipynb>data table notebook</a>'\n",
              "          + ' to learn more about interactive tables.';\n",
              "        element.innerHTML = '';\n",
              "        dataTable['output_type'] = 'display_data';\n",
              "        await google.colab.output.renderOutput(dataTable, element);\n",
              "        const docLink = document.createElement('div');\n",
              "        docLink.innerHTML = docLinkHtml;\n",
              "        element.appendChild(docLink);\n",
              "      }\n",
              "    </script>\n",
              "  </div>\n",
              "\n",
              "\n",
              "<div id=\"df-4bc9dbc3-1d84-499a-8f40-f64aba48f298\">\n",
              "  <button class=\"colab-df-quickchart\" onclick=\"quickchart('df-4bc9dbc3-1d84-499a-8f40-f64aba48f298')\"\n",
              "            title=\"Suggest charts\"\n",
              "            style=\"display:none;\">\n",
              "\n",
              "<svg xmlns=\"http://www.w3.org/2000/svg\" height=\"24px\"viewBox=\"0 0 24 24\"\n",
              "     width=\"24px\">\n",
              "    <g>\n",
              "        <path d=\"M19 3H5c-1.1 0-2 .9-2 2v14c0 1.1.9 2 2 2h14c1.1 0 2-.9 2-2V5c0-1.1-.9-2-2-2zM9 17H7v-7h2v7zm4 0h-2V7h2v10zm4 0h-2v-4h2v4z\"/>\n",
              "    </g>\n",
              "</svg>\n",
              "  </button>\n",
              "\n",
              "<style>\n",
              "  .colab-df-quickchart {\n",
              "      --bg-color: #E8F0FE;\n",
              "      --fill-color: #1967D2;\n",
              "      --hover-bg-color: #E2EBFA;\n",
              "      --hover-fill-color: #174EA6;\n",
              "      --disabled-fill-color: #AAA;\n",
              "      --disabled-bg-color: #DDD;\n",
              "  }\n",
              "\n",
              "  [theme=dark] .colab-df-quickchart {\n",
              "      --bg-color: #3B4455;\n",
              "      --fill-color: #D2E3FC;\n",
              "      --hover-bg-color: #434B5C;\n",
              "      --hover-fill-color: #FFFFFF;\n",
              "      --disabled-bg-color: #3B4455;\n",
              "      --disabled-fill-color: #666;\n",
              "  }\n",
              "\n",
              "  .colab-df-quickchart {\n",
              "    background-color: var(--bg-color);\n",
              "    border: none;\n",
              "    border-radius: 50%;\n",
              "    cursor: pointer;\n",
              "    display: none;\n",
              "    fill: var(--fill-color);\n",
              "    height: 32px;\n",
              "    padding: 0;\n",
              "    width: 32px;\n",
              "  }\n",
              "\n",
              "  .colab-df-quickchart:hover {\n",
              "    background-color: var(--hover-bg-color);\n",
              "    box-shadow: 0 1px 2px rgba(60, 64, 67, 0.3), 0 1px 3px 1px rgba(60, 64, 67, 0.15);\n",
              "    fill: var(--button-hover-fill-color);\n",
              "  }\n",
              "\n",
              "  .colab-df-quickchart-complete:disabled,\n",
              "  .colab-df-quickchart-complete:disabled:hover {\n",
              "    background-color: var(--disabled-bg-color);\n",
              "    fill: var(--disabled-fill-color);\n",
              "    box-shadow: none;\n",
              "  }\n",
              "\n",
              "  .colab-df-spinner {\n",
              "    border: 2px solid var(--fill-color);\n",
              "    border-color: transparent;\n",
              "    border-bottom-color: var(--fill-color);\n",
              "    animation:\n",
              "      spin 1s steps(1) infinite;\n",
              "  }\n",
              "\n",
              "  @keyframes spin {\n",
              "    0% {\n",
              "      border-color: transparent;\n",
              "      border-bottom-color: var(--fill-color);\n",
              "      border-left-color: var(--fill-color);\n",
              "    }\n",
              "    20% {\n",
              "      border-color: transparent;\n",
              "      border-left-color: var(--fill-color);\n",
              "      border-top-color: var(--fill-color);\n",
              "    }\n",
              "    30% {\n",
              "      border-color: transparent;\n",
              "      border-left-color: var(--fill-color);\n",
              "      border-top-color: var(--fill-color);\n",
              "      border-right-color: var(--fill-color);\n",
              "    }\n",
              "    40% {\n",
              "      border-color: transparent;\n",
              "      border-right-color: var(--fill-color);\n",
              "      border-top-color: var(--fill-color);\n",
              "    }\n",
              "    60% {\n",
              "      border-color: transparent;\n",
              "      border-right-color: var(--fill-color);\n",
              "    }\n",
              "    80% {\n",
              "      border-color: transparent;\n",
              "      border-right-color: var(--fill-color);\n",
              "      border-bottom-color: var(--fill-color);\n",
              "    }\n",
              "    90% {\n",
              "      border-color: transparent;\n",
              "      border-bottom-color: var(--fill-color);\n",
              "    }\n",
              "  }\n",
              "</style>\n",
              "\n",
              "  <script>\n",
              "    async function quickchart(key) {\n",
              "      const quickchartButtonEl =\n",
              "        document.querySelector('#' + key + ' button');\n",
              "      quickchartButtonEl.disabled = true;  // To prevent multiple clicks.\n",
              "      quickchartButtonEl.classList.add('colab-df-spinner');\n",
              "      try {\n",
              "        const charts = await google.colab.kernel.invokeFunction(\n",
              "            'suggestCharts', [key], {});\n",
              "      } catch (error) {\n",
              "        console.error('Error during call to suggestCharts:', error);\n",
              "      }\n",
              "      quickchartButtonEl.classList.remove('colab-df-spinner');\n",
              "      quickchartButtonEl.classList.add('colab-df-quickchart-complete');\n",
              "    }\n",
              "    (() => {\n",
              "      let quickchartButtonEl =\n",
              "        document.querySelector('#df-4bc9dbc3-1d84-499a-8f40-f64aba48f298 button');\n",
              "      quickchartButtonEl.style.display =\n",
              "        google.colab.kernel.accessAllowed ? 'block' : 'none';\n",
              "    })();\n",
              "  </script>\n",
              "</div>\n",
              "    </div>\n",
              "  </div>\n"
            ]
          },
          "metadata": {},
          "execution_count": 2
        }
      ],
      "source": [
        "import pandas as pd\n",
        "import numpy as np\n",
        "data_upworthy = pd.read_csv('/data_upworthy_exp.csv')\n",
        "\n",
        "# Create a new column called 'slug_legally' that takes the value of 1 if the slug contains the word legally, and 0 otherwise.\n",
        "data_upworthy['slug_legally'] = data_upworthy['slug'].str.contains('legally').astype(int)\n",
        "\n",
        "# Generate a random variable. It is meaningless, but it will allow us to see how the data is structured.\n",
        "# This variable takes random values from a normal distribution with mean 0 and standard deviation 5. It is then rounded.\n",
        "# The length of the variable is the same as the length of the data.\n",
        "data_upworthy['random_variable'] =  np.round(np.random.normal(0, 5, len(data_upworthy)))\n",
        "\n",
        "# Look at the data:\n",
        "data_upworthy\n",
        "\n",
        "#return the first 5 rows of upworthy_data\n",
        "data_upworthy.head(5)"
      ]
    },
    {
      "cell_type": "markdown",
      "source": [
        "Question 3"
      ],
      "metadata": {
        "id": "7WxDKldycCRb"
      }
    },
    {
      "cell_type": "code",
      "source": [
        "# Remember, you can reference rows and columns in a Python dataframe using the .loc method. For example, data.loc[5, 'column_name']\n",
        "# would return the value of 'column_name' for the 5th row of the dataframe.\n",
        "\n",
        "# Your code here.\n",
        "this_headline = data_upworthy.loc[4203, 'headline']\n",
        "\n",
        "this_headline"
      ],
      "metadata": {
        "colab": {
          "base_uri": "https://localhost:8080/",
          "height": 35
        },
        "id": "Cw1mtVXYausR",
        "outputId": "7bcaa384-e8e1-46eb-db39-358a8e23d0c6"
      },
      "execution_count": 7,
      "outputs": [
        {
          "output_type": "execute_result",
          "data": {
            "text/plain": [
              "'$3 Million Is What It Takes For A State To Legally Kill Someone'"
            ],
            "application/vnd.google.colaboratory.intrinsic+json": {
              "type": "string"
            }
          },
          "metadata": {},
          "execution_count": 7
        }
      ]
    },
    {
      "cell_type": "markdown",
      "source": [
        "Question 4"
      ],
      "metadata": {
        "id": "kQIjyrzwcJe-"
      }
    },
    {
      "cell_type": "code",
      "source": [
        "clicked_newdata = data_upworthy[data_upworthy.clicked == 1]\n",
        "clicked_newdata"
      ],
      "metadata": {
        "colab": {
          "base_uri": "https://localhost:8080/",
          "height": 423
        },
        "id": "5gDXxvETa4b6",
        "outputId": "cef4f137-64de-4e3a-84c1-4d60cceb7ebe"
      },
      "execution_count": 9,
      "outputs": [
        {
          "output_type": "execute_result",
          "data": {
            "text/plain": [
              "                                                headline  \\\n",
              "0      Let’s See … Hire Cops, Pay Teachers, Buy Books...   \n",
              "1      Let’s See … Hire Cops, Pay Teachers, Buy Books...   \n",
              "2      Let’s See … Hire Cops, Pay Teachers, Buy Books...   \n",
              "3      Let’s See … Hire Cops, Pay Teachers, Buy Books...   \n",
              "4      Let’s See … Hire Cops, Pay Teachers, Buy Books...   \n",
              "...                                                  ...   \n",
              "15235  I'll Say It: It's Not OK For States To Legally...   \n",
              "15236  I'll Say It: It's Not OK For States To Legally...   \n",
              "15237  I'll Say It: It's Not OK For States To Legally...   \n",
              "15238  I'll Say It: It's Not OK For States To Legally...   \n",
              "15239  I'll Say It: It's Not OK For States To Legally...   \n",
              "\n",
              "                                                    slug  \\\n",
              "0      let-s-see-hire-cops-pay-teachers-buy-books-for...   \n",
              "1      let-s-see-hire-cops-pay-teachers-buy-books-for...   \n",
              "2      let-s-see-hire-cops-pay-teachers-buy-books-for...   \n",
              "3      let-s-see-hire-cops-pay-teachers-buy-books-for...   \n",
              "4      let-s-see-hire-cops-pay-teachers-buy-books-for...   \n",
              "...                                                  ...   \n",
              "15235  ill-say-it-its-not-ok-for-states-to-legally-mu...   \n",
              "15236  ill-say-it-its-not-ok-for-states-to-legally-mu...   \n",
              "15237  ill-say-it-its-not-ok-for-states-to-legally-mu...   \n",
              "15238  ill-say-it-its-not-ok-for-states-to-legally-mu...   \n",
              "15239  ill-say-it-its-not-ok-for-states-to-legally-mu...   \n",
              "\n",
              "                  eyecatcher_id  clicked  slug_legally  random_variable  \n",
              "0      546dce659ad54ec65b000041        1             0              4.0  \n",
              "1      546dce659ad54ec65b000041        1             0              8.0  \n",
              "2      546dce659ad54ec65b000041        1             0              5.0  \n",
              "3      546dce659ad54ec65b000041        1             0              6.0  \n",
              "4      546dce659ad54ec65b000041        1             0              6.0  \n",
              "...                         ...      ...           ...              ...  \n",
              "15235  546dce659ad54ec65b000041        1             1              2.0  \n",
              "15236  546dce659ad54ec65b000041        1             1             -8.0  \n",
              "15237  546dce659ad54ec65b000041        1             1              2.0  \n",
              "15238  546dce659ad54ec65b000041        1             1              2.0  \n",
              "15239  546dce659ad54ec65b000041        1             1              5.0  \n",
              "\n",
              "[103 rows x 6 columns]"
            ],
            "text/html": [
              "\n",
              "  <div id=\"df-5eaecb7e-de10-4a5f-a91a-d312a6450ca9\" class=\"colab-df-container\">\n",
              "    <div>\n",
              "<style scoped>\n",
              "    .dataframe tbody tr th:only-of-type {\n",
              "        vertical-align: middle;\n",
              "    }\n",
              "\n",
              "    .dataframe tbody tr th {\n",
              "        vertical-align: top;\n",
              "    }\n",
              "\n",
              "    .dataframe thead th {\n",
              "        text-align: right;\n",
              "    }\n",
              "</style>\n",
              "<table border=\"1\" class=\"dataframe\">\n",
              "  <thead>\n",
              "    <tr style=\"text-align: right;\">\n",
              "      <th></th>\n",
              "      <th>headline</th>\n",
              "      <th>slug</th>\n",
              "      <th>eyecatcher_id</th>\n",
              "      <th>clicked</th>\n",
              "      <th>slug_legally</th>\n",
              "      <th>random_variable</th>\n",
              "    </tr>\n",
              "  </thead>\n",
              "  <tbody>\n",
              "    <tr>\n",
              "      <th>0</th>\n",
              "      <td>Let’s See … Hire Cops, Pay Teachers, Buy Books...</td>\n",
              "      <td>let-s-see-hire-cops-pay-teachers-buy-books-for...</td>\n",
              "      <td>546dce659ad54ec65b000041</td>\n",
              "      <td>1</td>\n",
              "      <td>0</td>\n",
              "      <td>4.0</td>\n",
              "    </tr>\n",
              "    <tr>\n",
              "      <th>1</th>\n",
              "      <td>Let’s See … Hire Cops, Pay Teachers, Buy Books...</td>\n",
              "      <td>let-s-see-hire-cops-pay-teachers-buy-books-for...</td>\n",
              "      <td>546dce659ad54ec65b000041</td>\n",
              "      <td>1</td>\n",
              "      <td>0</td>\n",
              "      <td>8.0</td>\n",
              "    </tr>\n",
              "    <tr>\n",
              "      <th>2</th>\n",
              "      <td>Let’s See … Hire Cops, Pay Teachers, Buy Books...</td>\n",
              "      <td>let-s-see-hire-cops-pay-teachers-buy-books-for...</td>\n",
              "      <td>546dce659ad54ec65b000041</td>\n",
              "      <td>1</td>\n",
              "      <td>0</td>\n",
              "      <td>5.0</td>\n",
              "    </tr>\n",
              "    <tr>\n",
              "      <th>3</th>\n",
              "      <td>Let’s See … Hire Cops, Pay Teachers, Buy Books...</td>\n",
              "      <td>let-s-see-hire-cops-pay-teachers-buy-books-for...</td>\n",
              "      <td>546dce659ad54ec65b000041</td>\n",
              "      <td>1</td>\n",
              "      <td>0</td>\n",
              "      <td>6.0</td>\n",
              "    </tr>\n",
              "    <tr>\n",
              "      <th>4</th>\n",
              "      <td>Let’s See … Hire Cops, Pay Teachers, Buy Books...</td>\n",
              "      <td>let-s-see-hire-cops-pay-teachers-buy-books-for...</td>\n",
              "      <td>546dce659ad54ec65b000041</td>\n",
              "      <td>1</td>\n",
              "      <td>0</td>\n",
              "      <td>6.0</td>\n",
              "    </tr>\n",
              "    <tr>\n",
              "      <th>...</th>\n",
              "      <td>...</td>\n",
              "      <td>...</td>\n",
              "      <td>...</td>\n",
              "      <td>...</td>\n",
              "      <td>...</td>\n",
              "      <td>...</td>\n",
              "    </tr>\n",
              "    <tr>\n",
              "      <th>15235</th>\n",
              "      <td>I'll Say It: It's Not OK For States To Legally...</td>\n",
              "      <td>ill-say-it-its-not-ok-for-states-to-legally-mu...</td>\n",
              "      <td>546dce659ad54ec65b000041</td>\n",
              "      <td>1</td>\n",
              "      <td>1</td>\n",
              "      <td>2.0</td>\n",
              "    </tr>\n",
              "    <tr>\n",
              "      <th>15236</th>\n",
              "      <td>I'll Say It: It's Not OK For States To Legally...</td>\n",
              "      <td>ill-say-it-its-not-ok-for-states-to-legally-mu...</td>\n",
              "      <td>546dce659ad54ec65b000041</td>\n",
              "      <td>1</td>\n",
              "      <td>1</td>\n",
              "      <td>-8.0</td>\n",
              "    </tr>\n",
              "    <tr>\n",
              "      <th>15237</th>\n",
              "      <td>I'll Say It: It's Not OK For States To Legally...</td>\n",
              "      <td>ill-say-it-its-not-ok-for-states-to-legally-mu...</td>\n",
              "      <td>546dce659ad54ec65b000041</td>\n",
              "      <td>1</td>\n",
              "      <td>1</td>\n",
              "      <td>2.0</td>\n",
              "    </tr>\n",
              "    <tr>\n",
              "      <th>15238</th>\n",
              "      <td>I'll Say It: It's Not OK For States To Legally...</td>\n",
              "      <td>ill-say-it-its-not-ok-for-states-to-legally-mu...</td>\n",
              "      <td>546dce659ad54ec65b000041</td>\n",
              "      <td>1</td>\n",
              "      <td>1</td>\n",
              "      <td>2.0</td>\n",
              "    </tr>\n",
              "    <tr>\n",
              "      <th>15239</th>\n",
              "      <td>I'll Say It: It's Not OK For States To Legally...</td>\n",
              "      <td>ill-say-it-its-not-ok-for-states-to-legally-mu...</td>\n",
              "      <td>546dce659ad54ec65b000041</td>\n",
              "      <td>1</td>\n",
              "      <td>1</td>\n",
              "      <td>5.0</td>\n",
              "    </tr>\n",
              "  </tbody>\n",
              "</table>\n",
              "<p>103 rows × 6 columns</p>\n",
              "</div>\n",
              "    <div class=\"colab-df-buttons\">\n",
              "\n",
              "  <div class=\"colab-df-container\">\n",
              "    <button class=\"colab-df-convert\" onclick=\"convertToInteractive('df-5eaecb7e-de10-4a5f-a91a-d312a6450ca9')\"\n",
              "            title=\"Convert this dataframe to an interactive table.\"\n",
              "            style=\"display:none;\">\n",
              "\n",
              "  <svg xmlns=\"http://www.w3.org/2000/svg\" height=\"24px\" viewBox=\"0 -960 960 960\">\n",
              "    <path d=\"M120-120v-720h720v720H120Zm60-500h600v-160H180v160Zm220 220h160v-160H400v160Zm0 220h160v-160H400v160ZM180-400h160v-160H180v160Zm440 0h160v-160H620v160ZM180-180h160v-160H180v160Zm440 0h160v-160H620v160Z\"/>\n",
              "  </svg>\n",
              "    </button>\n",
              "\n",
              "  <style>\n",
              "    .colab-df-container {\n",
              "      display:flex;\n",
              "      gap: 12px;\n",
              "    }\n",
              "\n",
              "    .colab-df-convert {\n",
              "      background-color: #E8F0FE;\n",
              "      border: none;\n",
              "      border-radius: 50%;\n",
              "      cursor: pointer;\n",
              "      display: none;\n",
              "      fill: #1967D2;\n",
              "      height: 32px;\n",
              "      padding: 0 0 0 0;\n",
              "      width: 32px;\n",
              "    }\n",
              "\n",
              "    .colab-df-convert:hover {\n",
              "      background-color: #E2EBFA;\n",
              "      box-shadow: 0px 1px 2px rgba(60, 64, 67, 0.3), 0px 1px 3px 1px rgba(60, 64, 67, 0.15);\n",
              "      fill: #174EA6;\n",
              "    }\n",
              "\n",
              "    .colab-df-buttons div {\n",
              "      margin-bottom: 4px;\n",
              "    }\n",
              "\n",
              "    [theme=dark] .colab-df-convert {\n",
              "      background-color: #3B4455;\n",
              "      fill: #D2E3FC;\n",
              "    }\n",
              "\n",
              "    [theme=dark] .colab-df-convert:hover {\n",
              "      background-color: #434B5C;\n",
              "      box-shadow: 0px 1px 3px 1px rgba(0, 0, 0, 0.15);\n",
              "      filter: drop-shadow(0px 1px 2px rgba(0, 0, 0, 0.3));\n",
              "      fill: #FFFFFF;\n",
              "    }\n",
              "  </style>\n",
              "\n",
              "    <script>\n",
              "      const buttonEl =\n",
              "        document.querySelector('#df-5eaecb7e-de10-4a5f-a91a-d312a6450ca9 button.colab-df-convert');\n",
              "      buttonEl.style.display =\n",
              "        google.colab.kernel.accessAllowed ? 'block' : 'none';\n",
              "\n",
              "      async function convertToInteractive(key) {\n",
              "        const element = document.querySelector('#df-5eaecb7e-de10-4a5f-a91a-d312a6450ca9');\n",
              "        const dataTable =\n",
              "          await google.colab.kernel.invokeFunction('convertToInteractive',\n",
              "                                                    [key], {});\n",
              "        if (!dataTable) return;\n",
              "\n",
              "        const docLinkHtml = 'Like what you see? Visit the ' +\n",
              "          '<a target=\"_blank\" href=https://colab.research.google.com/notebooks/data_table.ipynb>data table notebook</a>'\n",
              "          + ' to learn more about interactive tables.';\n",
              "        element.innerHTML = '';\n",
              "        dataTable['output_type'] = 'display_data';\n",
              "        await google.colab.output.renderOutput(dataTable, element);\n",
              "        const docLink = document.createElement('div');\n",
              "        docLink.innerHTML = docLinkHtml;\n",
              "        element.appendChild(docLink);\n",
              "      }\n",
              "    </script>\n",
              "  </div>\n",
              "\n",
              "\n",
              "<div id=\"df-9bbff763-308e-4ea9-8576-1df39c8ee0c2\">\n",
              "  <button class=\"colab-df-quickchart\" onclick=\"quickchart('df-9bbff763-308e-4ea9-8576-1df39c8ee0c2')\"\n",
              "            title=\"Suggest charts\"\n",
              "            style=\"display:none;\">\n",
              "\n",
              "<svg xmlns=\"http://www.w3.org/2000/svg\" height=\"24px\"viewBox=\"0 0 24 24\"\n",
              "     width=\"24px\">\n",
              "    <g>\n",
              "        <path d=\"M19 3H5c-1.1 0-2 .9-2 2v14c0 1.1.9 2 2 2h14c1.1 0 2-.9 2-2V5c0-1.1-.9-2-2-2zM9 17H7v-7h2v7zm4 0h-2V7h2v10zm4 0h-2v-4h2v4z\"/>\n",
              "    </g>\n",
              "</svg>\n",
              "  </button>\n",
              "\n",
              "<style>\n",
              "  .colab-df-quickchart {\n",
              "      --bg-color: #E8F0FE;\n",
              "      --fill-color: #1967D2;\n",
              "      --hover-bg-color: #E2EBFA;\n",
              "      --hover-fill-color: #174EA6;\n",
              "      --disabled-fill-color: #AAA;\n",
              "      --disabled-bg-color: #DDD;\n",
              "  }\n",
              "\n",
              "  [theme=dark] .colab-df-quickchart {\n",
              "      --bg-color: #3B4455;\n",
              "      --fill-color: #D2E3FC;\n",
              "      --hover-bg-color: #434B5C;\n",
              "      --hover-fill-color: #FFFFFF;\n",
              "      --disabled-bg-color: #3B4455;\n",
              "      --disabled-fill-color: #666;\n",
              "  }\n",
              "\n",
              "  .colab-df-quickchart {\n",
              "    background-color: var(--bg-color);\n",
              "    border: none;\n",
              "    border-radius: 50%;\n",
              "    cursor: pointer;\n",
              "    display: none;\n",
              "    fill: var(--fill-color);\n",
              "    height: 32px;\n",
              "    padding: 0;\n",
              "    width: 32px;\n",
              "  }\n",
              "\n",
              "  .colab-df-quickchart:hover {\n",
              "    background-color: var(--hover-bg-color);\n",
              "    box-shadow: 0 1px 2px rgba(60, 64, 67, 0.3), 0 1px 3px 1px rgba(60, 64, 67, 0.15);\n",
              "    fill: var(--button-hover-fill-color);\n",
              "  }\n",
              "\n",
              "  .colab-df-quickchart-complete:disabled,\n",
              "  .colab-df-quickchart-complete:disabled:hover {\n",
              "    background-color: var(--disabled-bg-color);\n",
              "    fill: var(--disabled-fill-color);\n",
              "    box-shadow: none;\n",
              "  }\n",
              "\n",
              "  .colab-df-spinner {\n",
              "    border: 2px solid var(--fill-color);\n",
              "    border-color: transparent;\n",
              "    border-bottom-color: var(--fill-color);\n",
              "    animation:\n",
              "      spin 1s steps(1) infinite;\n",
              "  }\n",
              "\n",
              "  @keyframes spin {\n",
              "    0% {\n",
              "      border-color: transparent;\n",
              "      border-bottom-color: var(--fill-color);\n",
              "      border-left-color: var(--fill-color);\n",
              "    }\n",
              "    20% {\n",
              "      border-color: transparent;\n",
              "      border-left-color: var(--fill-color);\n",
              "      border-top-color: var(--fill-color);\n",
              "    }\n",
              "    30% {\n",
              "      border-color: transparent;\n",
              "      border-left-color: var(--fill-color);\n",
              "      border-top-color: var(--fill-color);\n",
              "      border-right-color: var(--fill-color);\n",
              "    }\n",
              "    40% {\n",
              "      border-color: transparent;\n",
              "      border-right-color: var(--fill-color);\n",
              "      border-top-color: var(--fill-color);\n",
              "    }\n",
              "    60% {\n",
              "      border-color: transparent;\n",
              "      border-right-color: var(--fill-color);\n",
              "    }\n",
              "    80% {\n",
              "      border-color: transparent;\n",
              "      border-right-color: var(--fill-color);\n",
              "      border-bottom-color: var(--fill-color);\n",
              "    }\n",
              "    90% {\n",
              "      border-color: transparent;\n",
              "      border-bottom-color: var(--fill-color);\n",
              "    }\n",
              "  }\n",
              "</style>\n",
              "\n",
              "  <script>\n",
              "    async function quickchart(key) {\n",
              "      const quickchartButtonEl =\n",
              "        document.querySelector('#' + key + ' button');\n",
              "      quickchartButtonEl.disabled = true;  // To prevent multiple clicks.\n",
              "      quickchartButtonEl.classList.add('colab-df-spinner');\n",
              "      try {\n",
              "        const charts = await google.colab.kernel.invokeFunction(\n",
              "            'suggestCharts', [key], {});\n",
              "      } catch (error) {\n",
              "        console.error('Error during call to suggestCharts:', error);\n",
              "      }\n",
              "      quickchartButtonEl.classList.remove('colab-df-spinner');\n",
              "      quickchartButtonEl.classList.add('colab-df-quickchart-complete');\n",
              "    }\n",
              "    (() => {\n",
              "      let quickchartButtonEl =\n",
              "        document.querySelector('#df-9bbff763-308e-4ea9-8576-1df39c8ee0c2 button');\n",
              "      quickchartButtonEl.style.display =\n",
              "        google.colab.kernel.accessAllowed ? 'block' : 'none';\n",
              "    })();\n",
              "  </script>\n",
              "</div>\n",
              "    </div>\n",
              "  </div>\n"
            ]
          },
          "metadata": {},
          "execution_count": 9
        }
      ]
    },
    {
      "cell_type": "code",
      "source": [
        "#if we look for only head of 5\n",
        "clicked_newdata.head(5)"
      ],
      "metadata": {
        "colab": {
          "base_uri": "https://localhost:8080/",
          "height": 206
        },
        "id": "MrNd42WIdNJN",
        "outputId": "118f1d78-f85f-4655-97c6-8fa5b308b809"
      },
      "execution_count": 10,
      "outputs": [
        {
          "output_type": "execute_result",
          "data": {
            "text/plain": [
              "                                            headline  \\\n",
              "0  Let’s See … Hire Cops, Pay Teachers, Buy Books...   \n",
              "1  Let’s See … Hire Cops, Pay Teachers, Buy Books...   \n",
              "2  Let’s See … Hire Cops, Pay Teachers, Buy Books...   \n",
              "3  Let’s See … Hire Cops, Pay Teachers, Buy Books...   \n",
              "4  Let’s See … Hire Cops, Pay Teachers, Buy Books...   \n",
              "\n",
              "                                                slug  \\\n",
              "0  let-s-see-hire-cops-pay-teachers-buy-books-for...   \n",
              "1  let-s-see-hire-cops-pay-teachers-buy-books-for...   \n",
              "2  let-s-see-hire-cops-pay-teachers-buy-books-for...   \n",
              "3  let-s-see-hire-cops-pay-teachers-buy-books-for...   \n",
              "4  let-s-see-hire-cops-pay-teachers-buy-books-for...   \n",
              "\n",
              "              eyecatcher_id  clicked  slug_legally  random_variable  \n",
              "0  546dce659ad54ec65b000041        1             0              4.0  \n",
              "1  546dce659ad54ec65b000041        1             0              8.0  \n",
              "2  546dce659ad54ec65b000041        1             0              5.0  \n",
              "3  546dce659ad54ec65b000041        1             0              6.0  \n",
              "4  546dce659ad54ec65b000041        1             0              6.0  "
            ],
            "text/html": [
              "\n",
              "  <div id=\"df-92d4f019-2ef1-4633-a307-a599f6aa7b79\" class=\"colab-df-container\">\n",
              "    <div>\n",
              "<style scoped>\n",
              "    .dataframe tbody tr th:only-of-type {\n",
              "        vertical-align: middle;\n",
              "    }\n",
              "\n",
              "    .dataframe tbody tr th {\n",
              "        vertical-align: top;\n",
              "    }\n",
              "\n",
              "    .dataframe thead th {\n",
              "        text-align: right;\n",
              "    }\n",
              "</style>\n",
              "<table border=\"1\" class=\"dataframe\">\n",
              "  <thead>\n",
              "    <tr style=\"text-align: right;\">\n",
              "      <th></th>\n",
              "      <th>headline</th>\n",
              "      <th>slug</th>\n",
              "      <th>eyecatcher_id</th>\n",
              "      <th>clicked</th>\n",
              "      <th>slug_legally</th>\n",
              "      <th>random_variable</th>\n",
              "    </tr>\n",
              "  </thead>\n",
              "  <tbody>\n",
              "    <tr>\n",
              "      <th>0</th>\n",
              "      <td>Let’s See … Hire Cops, Pay Teachers, Buy Books...</td>\n",
              "      <td>let-s-see-hire-cops-pay-teachers-buy-books-for...</td>\n",
              "      <td>546dce659ad54ec65b000041</td>\n",
              "      <td>1</td>\n",
              "      <td>0</td>\n",
              "      <td>4.0</td>\n",
              "    </tr>\n",
              "    <tr>\n",
              "      <th>1</th>\n",
              "      <td>Let’s See … Hire Cops, Pay Teachers, Buy Books...</td>\n",
              "      <td>let-s-see-hire-cops-pay-teachers-buy-books-for...</td>\n",
              "      <td>546dce659ad54ec65b000041</td>\n",
              "      <td>1</td>\n",
              "      <td>0</td>\n",
              "      <td>8.0</td>\n",
              "    </tr>\n",
              "    <tr>\n",
              "      <th>2</th>\n",
              "      <td>Let’s See … Hire Cops, Pay Teachers, Buy Books...</td>\n",
              "      <td>let-s-see-hire-cops-pay-teachers-buy-books-for...</td>\n",
              "      <td>546dce659ad54ec65b000041</td>\n",
              "      <td>1</td>\n",
              "      <td>0</td>\n",
              "      <td>5.0</td>\n",
              "    </tr>\n",
              "    <tr>\n",
              "      <th>3</th>\n",
              "      <td>Let’s See … Hire Cops, Pay Teachers, Buy Books...</td>\n",
              "      <td>let-s-see-hire-cops-pay-teachers-buy-books-for...</td>\n",
              "      <td>546dce659ad54ec65b000041</td>\n",
              "      <td>1</td>\n",
              "      <td>0</td>\n",
              "      <td>6.0</td>\n",
              "    </tr>\n",
              "    <tr>\n",
              "      <th>4</th>\n",
              "      <td>Let’s See … Hire Cops, Pay Teachers, Buy Books...</td>\n",
              "      <td>let-s-see-hire-cops-pay-teachers-buy-books-for...</td>\n",
              "      <td>546dce659ad54ec65b000041</td>\n",
              "      <td>1</td>\n",
              "      <td>0</td>\n",
              "      <td>6.0</td>\n",
              "    </tr>\n",
              "  </tbody>\n",
              "</table>\n",
              "</div>\n",
              "    <div class=\"colab-df-buttons\">\n",
              "\n",
              "  <div class=\"colab-df-container\">\n",
              "    <button class=\"colab-df-convert\" onclick=\"convertToInteractive('df-92d4f019-2ef1-4633-a307-a599f6aa7b79')\"\n",
              "            title=\"Convert this dataframe to an interactive table.\"\n",
              "            style=\"display:none;\">\n",
              "\n",
              "  <svg xmlns=\"http://www.w3.org/2000/svg\" height=\"24px\" viewBox=\"0 -960 960 960\">\n",
              "    <path d=\"M120-120v-720h720v720H120Zm60-500h600v-160H180v160Zm220 220h160v-160H400v160Zm0 220h160v-160H400v160ZM180-400h160v-160H180v160Zm440 0h160v-160H620v160ZM180-180h160v-160H180v160Zm440 0h160v-160H620v160Z\"/>\n",
              "  </svg>\n",
              "    </button>\n",
              "\n",
              "  <style>\n",
              "    .colab-df-container {\n",
              "      display:flex;\n",
              "      gap: 12px;\n",
              "    }\n",
              "\n",
              "    .colab-df-convert {\n",
              "      background-color: #E8F0FE;\n",
              "      border: none;\n",
              "      border-radius: 50%;\n",
              "      cursor: pointer;\n",
              "      display: none;\n",
              "      fill: #1967D2;\n",
              "      height: 32px;\n",
              "      padding: 0 0 0 0;\n",
              "      width: 32px;\n",
              "    }\n",
              "\n",
              "    .colab-df-convert:hover {\n",
              "      background-color: #E2EBFA;\n",
              "      box-shadow: 0px 1px 2px rgba(60, 64, 67, 0.3), 0px 1px 3px 1px rgba(60, 64, 67, 0.15);\n",
              "      fill: #174EA6;\n",
              "    }\n",
              "\n",
              "    .colab-df-buttons div {\n",
              "      margin-bottom: 4px;\n",
              "    }\n",
              "\n",
              "    [theme=dark] .colab-df-convert {\n",
              "      background-color: #3B4455;\n",
              "      fill: #D2E3FC;\n",
              "    }\n",
              "\n",
              "    [theme=dark] .colab-df-convert:hover {\n",
              "      background-color: #434B5C;\n",
              "      box-shadow: 0px 1px 3px 1px rgba(0, 0, 0, 0.15);\n",
              "      filter: drop-shadow(0px 1px 2px rgba(0, 0, 0, 0.3));\n",
              "      fill: #FFFFFF;\n",
              "    }\n",
              "  </style>\n",
              "\n",
              "    <script>\n",
              "      const buttonEl =\n",
              "        document.querySelector('#df-92d4f019-2ef1-4633-a307-a599f6aa7b79 button.colab-df-convert');\n",
              "      buttonEl.style.display =\n",
              "        google.colab.kernel.accessAllowed ? 'block' : 'none';\n",
              "\n",
              "      async function convertToInteractive(key) {\n",
              "        const element = document.querySelector('#df-92d4f019-2ef1-4633-a307-a599f6aa7b79');\n",
              "        const dataTable =\n",
              "          await google.colab.kernel.invokeFunction('convertToInteractive',\n",
              "                                                    [key], {});\n",
              "        if (!dataTable) return;\n",
              "\n",
              "        const docLinkHtml = 'Like what you see? Visit the ' +\n",
              "          '<a target=\"_blank\" href=https://colab.research.google.com/notebooks/data_table.ipynb>data table notebook</a>'\n",
              "          + ' to learn more about interactive tables.';\n",
              "        element.innerHTML = '';\n",
              "        dataTable['output_type'] = 'display_data';\n",
              "        await google.colab.output.renderOutput(dataTable, element);\n",
              "        const docLink = document.createElement('div');\n",
              "        docLink.innerHTML = docLinkHtml;\n",
              "        element.appendChild(docLink);\n",
              "      }\n",
              "    </script>\n",
              "  </div>\n",
              "\n",
              "\n",
              "<div id=\"df-9a9219ad-af56-43c2-9994-e6249132e90f\">\n",
              "  <button class=\"colab-df-quickchart\" onclick=\"quickchart('df-9a9219ad-af56-43c2-9994-e6249132e90f')\"\n",
              "            title=\"Suggest charts\"\n",
              "            style=\"display:none;\">\n",
              "\n",
              "<svg xmlns=\"http://www.w3.org/2000/svg\" height=\"24px\"viewBox=\"0 0 24 24\"\n",
              "     width=\"24px\">\n",
              "    <g>\n",
              "        <path d=\"M19 3H5c-1.1 0-2 .9-2 2v14c0 1.1.9 2 2 2h14c1.1 0 2-.9 2-2V5c0-1.1-.9-2-2-2zM9 17H7v-7h2v7zm4 0h-2V7h2v10zm4 0h-2v-4h2v4z\"/>\n",
              "    </g>\n",
              "</svg>\n",
              "  </button>\n",
              "\n",
              "<style>\n",
              "  .colab-df-quickchart {\n",
              "      --bg-color: #E8F0FE;\n",
              "      --fill-color: #1967D2;\n",
              "      --hover-bg-color: #E2EBFA;\n",
              "      --hover-fill-color: #174EA6;\n",
              "      --disabled-fill-color: #AAA;\n",
              "      --disabled-bg-color: #DDD;\n",
              "  }\n",
              "\n",
              "  [theme=dark] .colab-df-quickchart {\n",
              "      --bg-color: #3B4455;\n",
              "      --fill-color: #D2E3FC;\n",
              "      --hover-bg-color: #434B5C;\n",
              "      --hover-fill-color: #FFFFFF;\n",
              "      --disabled-bg-color: #3B4455;\n",
              "      --disabled-fill-color: #666;\n",
              "  }\n",
              "\n",
              "  .colab-df-quickchart {\n",
              "    background-color: var(--bg-color);\n",
              "    border: none;\n",
              "    border-radius: 50%;\n",
              "    cursor: pointer;\n",
              "    display: none;\n",
              "    fill: var(--fill-color);\n",
              "    height: 32px;\n",
              "    padding: 0;\n",
              "    width: 32px;\n",
              "  }\n",
              "\n",
              "  .colab-df-quickchart:hover {\n",
              "    background-color: var(--hover-bg-color);\n",
              "    box-shadow: 0 1px 2px rgba(60, 64, 67, 0.3), 0 1px 3px 1px rgba(60, 64, 67, 0.15);\n",
              "    fill: var(--button-hover-fill-color);\n",
              "  }\n",
              "\n",
              "  .colab-df-quickchart-complete:disabled,\n",
              "  .colab-df-quickchart-complete:disabled:hover {\n",
              "    background-color: var(--disabled-bg-color);\n",
              "    fill: var(--disabled-fill-color);\n",
              "    box-shadow: none;\n",
              "  }\n",
              "\n",
              "  .colab-df-spinner {\n",
              "    border: 2px solid var(--fill-color);\n",
              "    border-color: transparent;\n",
              "    border-bottom-color: var(--fill-color);\n",
              "    animation:\n",
              "      spin 1s steps(1) infinite;\n",
              "  }\n",
              "\n",
              "  @keyframes spin {\n",
              "    0% {\n",
              "      border-color: transparent;\n",
              "      border-bottom-color: var(--fill-color);\n",
              "      border-left-color: var(--fill-color);\n",
              "    }\n",
              "    20% {\n",
              "      border-color: transparent;\n",
              "      border-left-color: var(--fill-color);\n",
              "      border-top-color: var(--fill-color);\n",
              "    }\n",
              "    30% {\n",
              "      border-color: transparent;\n",
              "      border-left-color: var(--fill-color);\n",
              "      border-top-color: var(--fill-color);\n",
              "      border-right-color: var(--fill-color);\n",
              "    }\n",
              "    40% {\n",
              "      border-color: transparent;\n",
              "      border-right-color: var(--fill-color);\n",
              "      border-top-color: var(--fill-color);\n",
              "    }\n",
              "    60% {\n",
              "      border-color: transparent;\n",
              "      border-right-color: var(--fill-color);\n",
              "    }\n",
              "    80% {\n",
              "      border-color: transparent;\n",
              "      border-right-color: var(--fill-color);\n",
              "      border-bottom-color: var(--fill-color);\n",
              "    }\n",
              "    90% {\n",
              "      border-color: transparent;\n",
              "      border-bottom-color: var(--fill-color);\n",
              "    }\n",
              "  }\n",
              "</style>\n",
              "\n",
              "  <script>\n",
              "    async function quickchart(key) {\n",
              "      const quickchartButtonEl =\n",
              "        document.querySelector('#' + key + ' button');\n",
              "      quickchartButtonEl.disabled = true;  // To prevent multiple clicks.\n",
              "      quickchartButtonEl.classList.add('colab-df-spinner');\n",
              "      try {\n",
              "        const charts = await google.colab.kernel.invokeFunction(\n",
              "            'suggestCharts', [key], {});\n",
              "      } catch (error) {\n",
              "        console.error('Error during call to suggestCharts:', error);\n",
              "      }\n",
              "      quickchartButtonEl.classList.remove('colab-df-spinner');\n",
              "      quickchartButtonEl.classList.add('colab-df-quickchart-complete');\n",
              "    }\n",
              "    (() => {\n",
              "      let quickchartButtonEl =\n",
              "        document.querySelector('#df-9a9219ad-af56-43c2-9994-e6249132e90f button');\n",
              "      quickchartButtonEl.style.display =\n",
              "        google.colab.kernel.accessAllowed ? 'block' : 'none';\n",
              "    })();\n",
              "  </script>\n",
              "</div>\n",
              "    </div>\n",
              "  </div>\n"
            ]
          },
          "metadata": {},
          "execution_count": 10
        }
      ]
    },
    {
      "cell_type": "markdown",
      "source": [
        "Question 5"
      ],
      "metadata": {
        "id": "t8TadmIddVWV"
      }
    },
    {
      "cell_type": "code",
      "source": [
        "# Here's an example:\n",
        "data_upworthy['slug'].nunique()"
      ],
      "metadata": {
        "colab": {
          "base_uri": "https://localhost:8080/"
        },
        "id": "sEYSW76SdaxM",
        "outputId": "f8d70959-6737-42bb-f2ec-2166fd184a6f"
      },
      "execution_count": 19,
      "outputs": [
        {
          "output_type": "execute_result",
          "data": {
            "text/plain": [
              "6"
            ]
          },
          "metadata": {},
          "execution_count": 19
        }
      ]
    },
    {
      "cell_type": "code",
      "source": [
        "# Your code here\n",
        "#python to calculate the number of unique headlines\n",
        "print(data_upworthy['headline'].unique())\n",
        "#use the nunique function\n",
        "data_upworthy['headline'].nunique()"
      ],
      "metadata": {
        "colab": {
          "base_uri": "https://localhost:8080/"
        },
        "id": "Txia76Gbe0z6",
        "outputId": "12a1156a-bb52-4c5f-93bd-9d727863e2aa"
      },
      "execution_count": 22,
      "outputs": [
        {
          "output_type": "stream",
          "name": "stdout",
          "text": [
            "['Let’s See … Hire Cops, Pay Teachers, Buy Books For Schools. Or Kill People. Hard Choice, Right?'\n",
            " '$3 Million Is What It Takes For A State To Legally Kill Someone'\n",
            " 'The Fact That Sometimes Innocent People Are Executed Is Enough To End The Death Penalty. But This?'\n",
            " 'Reason #351 To End The Death Penalty: It Costs $3 Million Per Case.'\n",
            " 'I Was Already Against The Death Penalty, But Now That I See What It Costs Us All? Ahem.'\n",
            " \"I'll Say It: It's Not OK For States To Legally Murder People.\"]\n"
          ]
        },
        {
          "output_type": "execute_result",
          "data": {
            "text/plain": [
              "6"
            ]
          },
          "metadata": {},
          "execution_count": 22
        }
      ]
    },
    {
      "cell_type": "markdown",
      "source": [
        "Question 6"
      ],
      "metadata": {
        "id": "qWdbi60kfMrP"
      }
    },
    {
      "cell_type": "code",
      "source": [
        "# To get you started, below is some example code that uses the value counts method. You can use this as a starting point for your own code.\n",
        "# This calculates the number of times each value of the random variable occurs in the data.\n",
        "value_random_variables = data_upworthy['random_variable'].value_counts()\n",
        "value_random_variables\n",
        "\n",
        "# This shows the total number of rows in the data.\n",
        "length_of_my_data = len(data_upworthy)\n",
        "length_of_my_data"
      ],
      "metadata": {
        "colab": {
          "base_uri": "https://localhost:8080/"
        },
        "id": "3OKvlaZWd7oW",
        "outputId": "aaa54500-2e1f-4a66-edcd-14fb44dd425e"
      },
      "execution_count": 28,
      "outputs": [
        {
          "output_type": "execute_result",
          "data": {
            "text/plain": [
              "18217"
            ]
          },
          "metadata": {},
          "execution_count": 28
        }
      ]
    },
    {
      "cell_type": "code",
      "source": [
        "# Your code here\n",
        "share_of_impressions  = data_upworthy['headline'].value_counts()\n",
        "share_of_impressions/length_of_my_data"
      ],
      "metadata": {
        "colab": {
          "base_uri": "https://localhost:8080/"
        },
        "id": "Nxww5akufXh1",
        "outputId": "c89ff610-afa4-4466-fa20-6c0fbe4f3f4d"
      },
      "execution_count": 29,
      "outputs": [
        {
          "output_type": "execute_result",
          "data": {
            "text/plain": [
              "Let’s See … Hire Cops, Pay Teachers, Buy Books For Schools. Or Kill People. Hard Choice, Right?       0.171159\n",
              "I Was Already Against The Death Penalty, But Now That I See What It Costs Us All? Ahem.               0.168030\n",
              "Reason #351 To End The Death Penalty: It Costs $3 Million Per Case.                                   0.167426\n",
              "$3 Million Is What It Takes For A State To Legally Kill Someone                                       0.165615\n",
              "I'll Say It: It's Not OK For States To Legally Murder People.                                         0.164517\n",
              "The Fact That Sometimes Innocent People Are Executed Is Enough To End The Death Penalty. But This?    0.163254\n",
              "Name: headline, dtype: float64"
            ]
          },
          "metadata": {},
          "execution_count": 29
        }
      ]
    },
    {
      "cell_type": "markdown",
      "source": [
        "Question 7"
      ],
      "metadata": {
        "id": "sZsOO_4ziJsZ"
      }
    },
    {
      "cell_type": "code",
      "source": [
        "# Sample code. This code calculate the mean of clicked by each value of 'slug_legally'\n",
        "data_click_slug = data_upworthy.groupby('slug_legally').agg(click_rate=('clicked', 'mean'), num_impressions=('clicked', 'size')).reset_index()\n",
        "data_click_slug"
      ],
      "metadata": {
        "colab": {
          "base_uri": "https://localhost:8080/",
          "height": 112
        },
        "id": "e3mXZ4ZTiLCW",
        "outputId": "631c7ae1-440b-4914-ab73-28dd1b101890"
      },
      "execution_count": 31,
      "outputs": [
        {
          "output_type": "execute_result",
          "data": {
            "text/plain": [
              "   slug_legally  click_rate  num_impressions\n",
              "0             0    0.005245            12203\n",
              "1             1    0.006485             6014"
            ],
            "text/html": [
              "\n",
              "  <div id=\"df-aa4ec912-953a-44f5-88cb-afd7cb189d60\" class=\"colab-df-container\">\n",
              "    <div>\n",
              "<style scoped>\n",
              "    .dataframe tbody tr th:only-of-type {\n",
              "        vertical-align: middle;\n",
              "    }\n",
              "\n",
              "    .dataframe tbody tr th {\n",
              "        vertical-align: top;\n",
              "    }\n",
              "\n",
              "    .dataframe thead th {\n",
              "        text-align: right;\n",
              "    }\n",
              "</style>\n",
              "<table border=\"1\" class=\"dataframe\">\n",
              "  <thead>\n",
              "    <tr style=\"text-align: right;\">\n",
              "      <th></th>\n",
              "      <th>slug_legally</th>\n",
              "      <th>click_rate</th>\n",
              "      <th>num_impressions</th>\n",
              "    </tr>\n",
              "  </thead>\n",
              "  <tbody>\n",
              "    <tr>\n",
              "      <th>0</th>\n",
              "      <td>0</td>\n",
              "      <td>0.005245</td>\n",
              "      <td>12203</td>\n",
              "    </tr>\n",
              "    <tr>\n",
              "      <th>1</th>\n",
              "      <td>1</td>\n",
              "      <td>0.006485</td>\n",
              "      <td>6014</td>\n",
              "    </tr>\n",
              "  </tbody>\n",
              "</table>\n",
              "</div>\n",
              "    <div class=\"colab-df-buttons\">\n",
              "\n",
              "  <div class=\"colab-df-container\">\n",
              "    <button class=\"colab-df-convert\" onclick=\"convertToInteractive('df-aa4ec912-953a-44f5-88cb-afd7cb189d60')\"\n",
              "            title=\"Convert this dataframe to an interactive table.\"\n",
              "            style=\"display:none;\">\n",
              "\n",
              "  <svg xmlns=\"http://www.w3.org/2000/svg\" height=\"24px\" viewBox=\"0 -960 960 960\">\n",
              "    <path d=\"M120-120v-720h720v720H120Zm60-500h600v-160H180v160Zm220 220h160v-160H400v160Zm0 220h160v-160H400v160ZM180-400h160v-160H180v160Zm440 0h160v-160H620v160ZM180-180h160v-160H180v160Zm440 0h160v-160H620v160Z\"/>\n",
              "  </svg>\n",
              "    </button>\n",
              "\n",
              "  <style>\n",
              "    .colab-df-container {\n",
              "      display:flex;\n",
              "      gap: 12px;\n",
              "    }\n",
              "\n",
              "    .colab-df-convert {\n",
              "      background-color: #E8F0FE;\n",
              "      border: none;\n",
              "      border-radius: 50%;\n",
              "      cursor: pointer;\n",
              "      display: none;\n",
              "      fill: #1967D2;\n",
              "      height: 32px;\n",
              "      padding: 0 0 0 0;\n",
              "      width: 32px;\n",
              "    }\n",
              "\n",
              "    .colab-df-convert:hover {\n",
              "      background-color: #E2EBFA;\n",
              "      box-shadow: 0px 1px 2px rgba(60, 64, 67, 0.3), 0px 1px 3px 1px rgba(60, 64, 67, 0.15);\n",
              "      fill: #174EA6;\n",
              "    }\n",
              "\n",
              "    .colab-df-buttons div {\n",
              "      margin-bottom: 4px;\n",
              "    }\n",
              "\n",
              "    [theme=dark] .colab-df-convert {\n",
              "      background-color: #3B4455;\n",
              "      fill: #D2E3FC;\n",
              "    }\n",
              "\n",
              "    [theme=dark] .colab-df-convert:hover {\n",
              "      background-color: #434B5C;\n",
              "      box-shadow: 0px 1px 3px 1px rgba(0, 0, 0, 0.15);\n",
              "      filter: drop-shadow(0px 1px 2px rgba(0, 0, 0, 0.3));\n",
              "      fill: #FFFFFF;\n",
              "    }\n",
              "  </style>\n",
              "\n",
              "    <script>\n",
              "      const buttonEl =\n",
              "        document.querySelector('#df-aa4ec912-953a-44f5-88cb-afd7cb189d60 button.colab-df-convert');\n",
              "      buttonEl.style.display =\n",
              "        google.colab.kernel.accessAllowed ? 'block' : 'none';\n",
              "\n",
              "      async function convertToInteractive(key) {\n",
              "        const element = document.querySelector('#df-aa4ec912-953a-44f5-88cb-afd7cb189d60');\n",
              "        const dataTable =\n",
              "          await google.colab.kernel.invokeFunction('convertToInteractive',\n",
              "                                                    [key], {});\n",
              "        if (!dataTable) return;\n",
              "\n",
              "        const docLinkHtml = 'Like what you see? Visit the ' +\n",
              "          '<a target=\"_blank\" href=https://colab.research.google.com/notebooks/data_table.ipynb>data table notebook</a>'\n",
              "          + ' to learn more about interactive tables.';\n",
              "        element.innerHTML = '';\n",
              "        dataTable['output_type'] = 'display_data';\n",
              "        await google.colab.output.renderOutput(dataTable, element);\n",
              "        const docLink = document.createElement('div');\n",
              "        docLink.innerHTML = docLinkHtml;\n",
              "        element.appendChild(docLink);\n",
              "      }\n",
              "    </script>\n",
              "  </div>\n",
              "\n",
              "\n",
              "<div id=\"df-53f71e68-622d-45a8-a88d-ce18b16cbc1f\">\n",
              "  <button class=\"colab-df-quickchart\" onclick=\"quickchart('df-53f71e68-622d-45a8-a88d-ce18b16cbc1f')\"\n",
              "            title=\"Suggest charts\"\n",
              "            style=\"display:none;\">\n",
              "\n",
              "<svg xmlns=\"http://www.w3.org/2000/svg\" height=\"24px\"viewBox=\"0 0 24 24\"\n",
              "     width=\"24px\">\n",
              "    <g>\n",
              "        <path d=\"M19 3H5c-1.1 0-2 .9-2 2v14c0 1.1.9 2 2 2h14c1.1 0 2-.9 2-2V5c0-1.1-.9-2-2-2zM9 17H7v-7h2v7zm4 0h-2V7h2v10zm4 0h-2v-4h2v4z\"/>\n",
              "    </g>\n",
              "</svg>\n",
              "  </button>\n",
              "\n",
              "<style>\n",
              "  .colab-df-quickchart {\n",
              "      --bg-color: #E8F0FE;\n",
              "      --fill-color: #1967D2;\n",
              "      --hover-bg-color: #E2EBFA;\n",
              "      --hover-fill-color: #174EA6;\n",
              "      --disabled-fill-color: #AAA;\n",
              "      --disabled-bg-color: #DDD;\n",
              "  }\n",
              "\n",
              "  [theme=dark] .colab-df-quickchart {\n",
              "      --bg-color: #3B4455;\n",
              "      --fill-color: #D2E3FC;\n",
              "      --hover-bg-color: #434B5C;\n",
              "      --hover-fill-color: #FFFFFF;\n",
              "      --disabled-bg-color: #3B4455;\n",
              "      --disabled-fill-color: #666;\n",
              "  }\n",
              "\n",
              "  .colab-df-quickchart {\n",
              "    background-color: var(--bg-color);\n",
              "    border: none;\n",
              "    border-radius: 50%;\n",
              "    cursor: pointer;\n",
              "    display: none;\n",
              "    fill: var(--fill-color);\n",
              "    height: 32px;\n",
              "    padding: 0;\n",
              "    width: 32px;\n",
              "  }\n",
              "\n",
              "  .colab-df-quickchart:hover {\n",
              "    background-color: var(--hover-bg-color);\n",
              "    box-shadow: 0 1px 2px rgba(60, 64, 67, 0.3), 0 1px 3px 1px rgba(60, 64, 67, 0.15);\n",
              "    fill: var(--button-hover-fill-color);\n",
              "  }\n",
              "\n",
              "  .colab-df-quickchart-complete:disabled,\n",
              "  .colab-df-quickchart-complete:disabled:hover {\n",
              "    background-color: var(--disabled-bg-color);\n",
              "    fill: var(--disabled-fill-color);\n",
              "    box-shadow: none;\n",
              "  }\n",
              "\n",
              "  .colab-df-spinner {\n",
              "    border: 2px solid var(--fill-color);\n",
              "    border-color: transparent;\n",
              "    border-bottom-color: var(--fill-color);\n",
              "    animation:\n",
              "      spin 1s steps(1) infinite;\n",
              "  }\n",
              "\n",
              "  @keyframes spin {\n",
              "    0% {\n",
              "      border-color: transparent;\n",
              "      border-bottom-color: var(--fill-color);\n",
              "      border-left-color: var(--fill-color);\n",
              "    }\n",
              "    20% {\n",
              "      border-color: transparent;\n",
              "      border-left-color: var(--fill-color);\n",
              "      border-top-color: var(--fill-color);\n",
              "    }\n",
              "    30% {\n",
              "      border-color: transparent;\n",
              "      border-left-color: var(--fill-color);\n",
              "      border-top-color: var(--fill-color);\n",
              "      border-right-color: var(--fill-color);\n",
              "    }\n",
              "    40% {\n",
              "      border-color: transparent;\n",
              "      border-right-color: var(--fill-color);\n",
              "      border-top-color: var(--fill-color);\n",
              "    }\n",
              "    60% {\n",
              "      border-color: transparent;\n",
              "      border-right-color: var(--fill-color);\n",
              "    }\n",
              "    80% {\n",
              "      border-color: transparent;\n",
              "      border-right-color: var(--fill-color);\n",
              "      border-bottom-color: var(--fill-color);\n",
              "    }\n",
              "    90% {\n",
              "      border-color: transparent;\n",
              "      border-bottom-color: var(--fill-color);\n",
              "    }\n",
              "  }\n",
              "</style>\n",
              "\n",
              "  <script>\n",
              "    async function quickchart(key) {\n",
              "      const quickchartButtonEl =\n",
              "        document.querySelector('#' + key + ' button');\n",
              "      quickchartButtonEl.disabled = true;  // To prevent multiple clicks.\n",
              "      quickchartButtonEl.classList.add('colab-df-spinner');\n",
              "      try {\n",
              "        const charts = await google.colab.kernel.invokeFunction(\n",
              "            'suggestCharts', [key], {});\n",
              "      } catch (error) {\n",
              "        console.error('Error during call to suggestCharts:', error);\n",
              "      }\n",
              "      quickchartButtonEl.classList.remove('colab-df-spinner');\n",
              "      quickchartButtonEl.classList.add('colab-df-quickchart-complete');\n",
              "    }\n",
              "    (() => {\n",
              "      let quickchartButtonEl =\n",
              "        document.querySelector('#df-53f71e68-622d-45a8-a88d-ce18b16cbc1f button');\n",
              "      quickchartButtonEl.style.display =\n",
              "        google.colab.kernel.accessAllowed ? 'block' : 'none';\n",
              "    })();\n",
              "  </script>\n",
              "</div>\n",
              "    </div>\n",
              "  </div>\n"
            ]
          },
          "metadata": {},
          "execution_count": 31
        }
      ]
    },
    {
      "cell_type": "code",
      "source": [
        "# Your code here:\n",
        "headline_newdata = data_upworthy.groupby('headline').agg(click_rate = ('clicked', 'mean'), num_impressions=('clicked', 'size')).reset_index()\n",
        "headline_newdata"
      ],
      "metadata": {
        "colab": {
          "base_uri": "https://localhost:8080/",
          "height": 237
        },
        "id": "Scb1ilxAf7hv",
        "outputId": "fc5ec136-dc17-45ac-bd76-3943d9dfffcc"
      },
      "execution_count": 35,
      "outputs": [
        {
          "output_type": "execute_result",
          "data": {
            "text/plain": [
              "                                            headline  click_rate  \\\n",
              "0  $3 Million Is What It Takes For A State To Leg...    0.006298   \n",
              "1  I Was Already Against The Death Penalty, But N...    0.006534   \n",
              "2  I'll Say It: It's Not OK For States To Legally...    0.006673   \n",
              "3  Let’s See … Hire Cops, Pay Teachers, Buy Books...    0.002566   \n",
              "4  Reason #351 To End The Death Penalty: It Costs...    0.003279   \n",
              "5  The Fact That Sometimes Innocent People Are Ex...    0.008742   \n",
              "\n",
              "   num_impressions  \n",
              "0             3017  \n",
              "1             3061  \n",
              "2             2997  \n",
              "3             3118  \n",
              "4             3050  \n",
              "5             2974  "
            ],
            "text/html": [
              "\n",
              "  <div id=\"df-20a6ec95-63fb-4ead-a185-2bbf26e1494f\" class=\"colab-df-container\">\n",
              "    <div>\n",
              "<style scoped>\n",
              "    .dataframe tbody tr th:only-of-type {\n",
              "        vertical-align: middle;\n",
              "    }\n",
              "\n",
              "    .dataframe tbody tr th {\n",
              "        vertical-align: top;\n",
              "    }\n",
              "\n",
              "    .dataframe thead th {\n",
              "        text-align: right;\n",
              "    }\n",
              "</style>\n",
              "<table border=\"1\" class=\"dataframe\">\n",
              "  <thead>\n",
              "    <tr style=\"text-align: right;\">\n",
              "      <th></th>\n",
              "      <th>headline</th>\n",
              "      <th>click_rate</th>\n",
              "      <th>num_impressions</th>\n",
              "    </tr>\n",
              "  </thead>\n",
              "  <tbody>\n",
              "    <tr>\n",
              "      <th>0</th>\n",
              "      <td>$3 Million Is What It Takes For A State To Leg...</td>\n",
              "      <td>0.006298</td>\n",
              "      <td>3017</td>\n",
              "    </tr>\n",
              "    <tr>\n",
              "      <th>1</th>\n",
              "      <td>I Was Already Against The Death Penalty, But N...</td>\n",
              "      <td>0.006534</td>\n",
              "      <td>3061</td>\n",
              "    </tr>\n",
              "    <tr>\n",
              "      <th>2</th>\n",
              "      <td>I'll Say It: It's Not OK For States To Legally...</td>\n",
              "      <td>0.006673</td>\n",
              "      <td>2997</td>\n",
              "    </tr>\n",
              "    <tr>\n",
              "      <th>3</th>\n",
              "      <td>Let’s See … Hire Cops, Pay Teachers, Buy Books...</td>\n",
              "      <td>0.002566</td>\n",
              "      <td>3118</td>\n",
              "    </tr>\n",
              "    <tr>\n",
              "      <th>4</th>\n",
              "      <td>Reason #351 To End The Death Penalty: It Costs...</td>\n",
              "      <td>0.003279</td>\n",
              "      <td>3050</td>\n",
              "    </tr>\n",
              "    <tr>\n",
              "      <th>5</th>\n",
              "      <td>The Fact That Sometimes Innocent People Are Ex...</td>\n",
              "      <td>0.008742</td>\n",
              "      <td>2974</td>\n",
              "    </tr>\n",
              "  </tbody>\n",
              "</table>\n",
              "</div>\n",
              "    <div class=\"colab-df-buttons\">\n",
              "\n",
              "  <div class=\"colab-df-container\">\n",
              "    <button class=\"colab-df-convert\" onclick=\"convertToInteractive('df-20a6ec95-63fb-4ead-a185-2bbf26e1494f')\"\n",
              "            title=\"Convert this dataframe to an interactive table.\"\n",
              "            style=\"display:none;\">\n",
              "\n",
              "  <svg xmlns=\"http://www.w3.org/2000/svg\" height=\"24px\" viewBox=\"0 -960 960 960\">\n",
              "    <path d=\"M120-120v-720h720v720H120Zm60-500h600v-160H180v160Zm220 220h160v-160H400v160Zm0 220h160v-160H400v160ZM180-400h160v-160H180v160Zm440 0h160v-160H620v160ZM180-180h160v-160H180v160Zm440 0h160v-160H620v160Z\"/>\n",
              "  </svg>\n",
              "    </button>\n",
              "\n",
              "  <style>\n",
              "    .colab-df-container {\n",
              "      display:flex;\n",
              "      gap: 12px;\n",
              "    }\n",
              "\n",
              "    .colab-df-convert {\n",
              "      background-color: #E8F0FE;\n",
              "      border: none;\n",
              "      border-radius: 50%;\n",
              "      cursor: pointer;\n",
              "      display: none;\n",
              "      fill: #1967D2;\n",
              "      height: 32px;\n",
              "      padding: 0 0 0 0;\n",
              "      width: 32px;\n",
              "    }\n",
              "\n",
              "    .colab-df-convert:hover {\n",
              "      background-color: #E2EBFA;\n",
              "      box-shadow: 0px 1px 2px rgba(60, 64, 67, 0.3), 0px 1px 3px 1px rgba(60, 64, 67, 0.15);\n",
              "      fill: #174EA6;\n",
              "    }\n",
              "\n",
              "    .colab-df-buttons div {\n",
              "      margin-bottom: 4px;\n",
              "    }\n",
              "\n",
              "    [theme=dark] .colab-df-convert {\n",
              "      background-color: #3B4455;\n",
              "      fill: #D2E3FC;\n",
              "    }\n",
              "\n",
              "    [theme=dark] .colab-df-convert:hover {\n",
              "      background-color: #434B5C;\n",
              "      box-shadow: 0px 1px 3px 1px rgba(0, 0, 0, 0.15);\n",
              "      filter: drop-shadow(0px 1px 2px rgba(0, 0, 0, 0.3));\n",
              "      fill: #FFFFFF;\n",
              "    }\n",
              "  </style>\n",
              "\n",
              "    <script>\n",
              "      const buttonEl =\n",
              "        document.querySelector('#df-20a6ec95-63fb-4ead-a185-2bbf26e1494f button.colab-df-convert');\n",
              "      buttonEl.style.display =\n",
              "        google.colab.kernel.accessAllowed ? 'block' : 'none';\n",
              "\n",
              "      async function convertToInteractive(key) {\n",
              "        const element = document.querySelector('#df-20a6ec95-63fb-4ead-a185-2bbf26e1494f');\n",
              "        const dataTable =\n",
              "          await google.colab.kernel.invokeFunction('convertToInteractive',\n",
              "                                                    [key], {});\n",
              "        if (!dataTable) return;\n",
              "\n",
              "        const docLinkHtml = 'Like what you see? Visit the ' +\n",
              "          '<a target=\"_blank\" href=https://colab.research.google.com/notebooks/data_table.ipynb>data table notebook</a>'\n",
              "          + ' to learn more about interactive tables.';\n",
              "        element.innerHTML = '';\n",
              "        dataTable['output_type'] = 'display_data';\n",
              "        await google.colab.output.renderOutput(dataTable, element);\n",
              "        const docLink = document.createElement('div');\n",
              "        docLink.innerHTML = docLinkHtml;\n",
              "        element.appendChild(docLink);\n",
              "      }\n",
              "    </script>\n",
              "  </div>\n",
              "\n",
              "\n",
              "<div id=\"df-5499628b-c155-42ad-bdb6-c73cc27f3fa8\">\n",
              "  <button class=\"colab-df-quickchart\" onclick=\"quickchart('df-5499628b-c155-42ad-bdb6-c73cc27f3fa8')\"\n",
              "            title=\"Suggest charts\"\n",
              "            style=\"display:none;\">\n",
              "\n",
              "<svg xmlns=\"http://www.w3.org/2000/svg\" height=\"24px\"viewBox=\"0 0 24 24\"\n",
              "     width=\"24px\">\n",
              "    <g>\n",
              "        <path d=\"M19 3H5c-1.1 0-2 .9-2 2v14c0 1.1.9 2 2 2h14c1.1 0 2-.9 2-2V5c0-1.1-.9-2-2-2zM9 17H7v-7h2v7zm4 0h-2V7h2v10zm4 0h-2v-4h2v4z\"/>\n",
              "    </g>\n",
              "</svg>\n",
              "  </button>\n",
              "\n",
              "<style>\n",
              "  .colab-df-quickchart {\n",
              "      --bg-color: #E8F0FE;\n",
              "      --fill-color: #1967D2;\n",
              "      --hover-bg-color: #E2EBFA;\n",
              "      --hover-fill-color: #174EA6;\n",
              "      --disabled-fill-color: #AAA;\n",
              "      --disabled-bg-color: #DDD;\n",
              "  }\n",
              "\n",
              "  [theme=dark] .colab-df-quickchart {\n",
              "      --bg-color: #3B4455;\n",
              "      --fill-color: #D2E3FC;\n",
              "      --hover-bg-color: #434B5C;\n",
              "      --hover-fill-color: #FFFFFF;\n",
              "      --disabled-bg-color: #3B4455;\n",
              "      --disabled-fill-color: #666;\n",
              "  }\n",
              "\n",
              "  .colab-df-quickchart {\n",
              "    background-color: var(--bg-color);\n",
              "    border: none;\n",
              "    border-radius: 50%;\n",
              "    cursor: pointer;\n",
              "    display: none;\n",
              "    fill: var(--fill-color);\n",
              "    height: 32px;\n",
              "    padding: 0;\n",
              "    width: 32px;\n",
              "  }\n",
              "\n",
              "  .colab-df-quickchart:hover {\n",
              "    background-color: var(--hover-bg-color);\n",
              "    box-shadow: 0 1px 2px rgba(60, 64, 67, 0.3), 0 1px 3px 1px rgba(60, 64, 67, 0.15);\n",
              "    fill: var(--button-hover-fill-color);\n",
              "  }\n",
              "\n",
              "  .colab-df-quickchart-complete:disabled,\n",
              "  .colab-df-quickchart-complete:disabled:hover {\n",
              "    background-color: var(--disabled-bg-color);\n",
              "    fill: var(--disabled-fill-color);\n",
              "    box-shadow: none;\n",
              "  }\n",
              "\n",
              "  .colab-df-spinner {\n",
              "    border: 2px solid var(--fill-color);\n",
              "    border-color: transparent;\n",
              "    border-bottom-color: var(--fill-color);\n",
              "    animation:\n",
              "      spin 1s steps(1) infinite;\n",
              "  }\n",
              "\n",
              "  @keyframes spin {\n",
              "    0% {\n",
              "      border-color: transparent;\n",
              "      border-bottom-color: var(--fill-color);\n",
              "      border-left-color: var(--fill-color);\n",
              "    }\n",
              "    20% {\n",
              "      border-color: transparent;\n",
              "      border-left-color: var(--fill-color);\n",
              "      border-top-color: var(--fill-color);\n",
              "    }\n",
              "    30% {\n",
              "      border-color: transparent;\n",
              "      border-left-color: var(--fill-color);\n",
              "      border-top-color: var(--fill-color);\n",
              "      border-right-color: var(--fill-color);\n",
              "    }\n",
              "    40% {\n",
              "      border-color: transparent;\n",
              "      border-right-color: var(--fill-color);\n",
              "      border-top-color: var(--fill-color);\n",
              "    }\n",
              "    60% {\n",
              "      border-color: transparent;\n",
              "      border-right-color: var(--fill-color);\n",
              "    }\n",
              "    80% {\n",
              "      border-color: transparent;\n",
              "      border-right-color: var(--fill-color);\n",
              "      border-bottom-color: var(--fill-color);\n",
              "    }\n",
              "    90% {\n",
              "      border-color: transparent;\n",
              "      border-bottom-color: var(--fill-color);\n",
              "    }\n",
              "  }\n",
              "</style>\n",
              "\n",
              "  <script>\n",
              "    async function quickchart(key) {\n",
              "      const quickchartButtonEl =\n",
              "        document.querySelector('#' + key + ' button');\n",
              "      quickchartButtonEl.disabled = true;  // To prevent multiple clicks.\n",
              "      quickchartButtonEl.classList.add('colab-df-spinner');\n",
              "      try {\n",
              "        const charts = await google.colab.kernel.invokeFunction(\n",
              "            'suggestCharts', [key], {});\n",
              "      } catch (error) {\n",
              "        console.error('Error during call to suggestCharts:', error);\n",
              "      }\n",
              "      quickchartButtonEl.classList.remove('colab-df-spinner');\n",
              "      quickchartButtonEl.classList.add('colab-df-quickchart-complete');\n",
              "    }\n",
              "    (() => {\n",
              "      let quickchartButtonEl =\n",
              "        document.querySelector('#df-5499628b-c155-42ad-bdb6-c73cc27f3fa8 button');\n",
              "      quickchartButtonEl.style.display =\n",
              "        google.colab.kernel.accessAllowed ? 'block' : 'none';\n",
              "    })();\n",
              "  </script>\n",
              "</div>\n",
              "    </div>\n",
              "  </div>\n"
            ]
          },
          "metadata": {},
          "execution_count": 35
        }
      ]
    },
    {
      "cell_type": "code",
      "source": [
        "max_click_rate_headline = headline_newdata.loc[headline_newdata['click_rate'].idxmax()]\n",
        "max_click_rate_headline"
      ],
      "metadata": {
        "colab": {
          "base_uri": "https://localhost:8080/"
        },
        "id": "TOfikdDrjOEy",
        "outputId": "16422ed5-94ed-43d0-9117-53f744dead06"
      },
      "execution_count": 38,
      "outputs": [
        {
          "output_type": "execute_result",
          "data": {
            "text/plain": [
              "headline           The Fact That Sometimes Innocent People Are Ex...\n",
              "click_rate                                                  0.008742\n",
              "num_impressions                                                 2974\n",
              "Name: 5, dtype: object"
            ]
          },
          "metadata": {},
          "execution_count": 38
        }
      ]
    },
    {
      "cell_type": "markdown",
      "source": [
        "Question 8"
      ],
      "metadata": {
        "id": "aQn8LbGZooqO"
      }
    },
    {
      "cell_type": "code",
      "source": [
        "pip install lets_plot"
      ],
      "metadata": {
        "colab": {
          "base_uri": "https://localhost:8080/"
        },
        "id": "zwq_xdDyqOXu",
        "outputId": "551fba10-c4d7-488d-bc78-f5fc14353af7"
      },
      "execution_count": 42,
      "outputs": [
        {
          "output_type": "stream",
          "name": "stdout",
          "text": [
            "Collecting lets_plot\n",
            "  Downloading lets_plot-4.2.0-cp310-cp310-manylinux_2_17_x86_64.manylinux2014_x86_64.whl (2.9 MB)\n",
            "\u001b[2K     \u001b[90m━━━━━━━━━━━━━━━━━━━━━━━━━━━━━━━━━━━━━━━━\u001b[0m \u001b[32m2.9/2.9 MB\u001b[0m \u001b[31m8.8 MB/s\u001b[0m eta \u001b[36m0:00:00\u001b[0m\n",
            "\u001b[?25hCollecting pypng (from lets_plot)\n",
            "  Downloading pypng-0.20220715.0-py3-none-any.whl (58 kB)\n",
            "\u001b[2K     \u001b[90m━━━━━━━━━━━━━━━━━━━━━━━━━━━━━━━━━━━━━━━━\u001b[0m \u001b[32m58.1/58.1 kB\u001b[0m \u001b[31m7.9 MB/s\u001b[0m eta \u001b[36m0:00:00\u001b[0m\n",
            "\u001b[?25hCollecting palettable (from lets_plot)\n",
            "  Downloading palettable-3.3.3-py2.py3-none-any.whl (332 kB)\n",
            "\u001b[2K     \u001b[90m━━━━━━━━━━━━━━━━━━━━━━━━━━━━━━━━━━━━━━━━\u001b[0m \u001b[32m332.3/332.3 kB\u001b[0m \u001b[31m12.7 MB/s\u001b[0m eta \u001b[36m0:00:00\u001b[0m\n",
            "\u001b[?25hInstalling collected packages: pypng, palettable, lets_plot\n",
            "Successfully installed lets_plot-4.2.0 palettable-3.3.3 pypng-0.20220715.0\n"
          ]
        }
      ]
    },
    {
      "cell_type": "code",
      "source": [
        "from lets_plot import *\n",
        "LetsPlot.setup_html()\n",
        "import matplotlib.pyplot as plt\n",
        "# using seaborn\n",
        "import seaborn as sns"
      ],
      "metadata": {
        "id": "up8bsQ3WmFGE"
      },
      "execution_count": 43,
      "outputs": []
    },
    {
      "cell_type": "code",
      "source": [
        "# Lets-Plot\n",
        "ggplot(data_click_slug, aes(x= 'slug_legally', y = 'click_rate')) + \\\n",
        "    geom_bar(stat = 'identity') + \\\n",
        "    scale_fill_discrete()"
      ],
      "metadata": {
        "colab": {
          "base_uri": "https://localhost:8080/",
          "height": 421
        },
        "id": "R3juXFGhqWph",
        "outputId": "58c64c52-dc99-47ec-9120-125a0b50b23f"
      },
      "execution_count": 44,
      "outputs": [
        {
          "output_type": "execute_result",
          "data": {
            "text/plain": [
              "<lets_plot.plot.core.PlotSpec at 0x7c94d2cd4fd0>"
            ],
            "text/html": [
              "<html lang=\"en\">\n",
              "   <head>\n",
              "       <meta charset=\"UTF-8\">\n",
              "       <script type=\"text/javascript\" data-lets-plot-script=\"library\" src=\"https://cdn.jsdelivr.net/gh/JetBrains/lets-plot@v4.2.0/js-package/distr/lets-plot.min.js\"></script>\n",
              "   </head>\n",
              "   <body>\n",
              "          <div id=\"QscBqd\"></div>\n",
              "   <script type=\"text/javascript\" data-lets-plot-script=\"plot\">\n",
              "       var plotSpec={\n",
              "\"data\":{\n",
              "\"slug_legally\":[0.0,1.0],\n",
              "\"click_rate\":[0.0052446119806604935,0.006484868639840372]\n",
              "},\n",
              "\"mapping\":{\n",
              "\"x\":\"slug_legally\",\n",
              "\"y\":\"click_rate\"\n",
              "},\n",
              "\"data_meta\":{\n",
              "},\n",
              "\"kind\":\"plot\",\n",
              "\"scales\":[{\n",
              "\"aesthetic\":\"fill\",\n",
              "\"discrete\":true\n",
              "}],\n",
              "\"layers\":[{\n",
              "\"geom\":\"bar\",\n",
              "\"stat\":\"identity\",\n",
              "\"mapping\":{\n",
              "},\n",
              "\"data_meta\":{\n",
              "},\n",
              "\"data\":{\n",
              "}\n",
              "}],\n",
              "\"metainfo_list\":[]\n",
              "};\n",
              "       var plotContainer = document.getElementById(\"QscBqd\");\n",
              "       LetsPlot.buildPlotFromProcessedSpecs(plotSpec, -1, -1, plotContainer);\n",
              "   </script>\n",
              "   </body>\n",
              "</html>"
            ]
          },
          "metadata": {},
          "execution_count": 44
        }
      ]
    },
    {
      "cell_type": "code",
      "source": [
        "import matplotlib.ticker as ticker\n",
        "import seaborn as sn\n",
        "\n",
        "# Seaborn\n",
        "g = sn.catplot(data = data_click_slug, kind=\"bar\", x=\"slug_legally\", hue = None, y = \"click_rate\", color = 'blue')\n",
        "g\n"
      ],
      "metadata": {
        "colab": {
          "base_uri": "https://localhost:8080/",
          "height": 523
        },
        "id": "_T54FTScqdC1",
        "outputId": "20d785ad-0281-440a-ec5e-96198cf38c16"
      },
      "execution_count": 45,
      "outputs": [
        {
          "output_type": "execute_result",
          "data": {
            "text/plain": [
              "<seaborn.axisgrid.FacetGrid at 0x7c94d2e74850>"
            ]
          },
          "metadata": {},
          "execution_count": 45
        },
        {
          "output_type": "display_data",
          "data": {
            "text/plain": [
              "<Figure size 511.111x500 with 1 Axes>"
            ],
            "image/png": "[encoded data removed]"
          },
          "metadata": {}
        }
      ]
    },
    {
      "cell_type": "markdown",
      "source": [
        "My plot for the click rate by headline"
      ],
      "metadata": {
        "id": "fDhU1Mf1vIop"
      }
    },
    {
      "cell_type": "code",
      "source": [
        "sns.lineplot(data = headline_newdata, y=\"headline\", x = \"click_rate\",hue = None,color=\"purple\")\n",
        "plt.show()"
      ],
      "metadata": {
        "colab": {
          "base_uri": "https://localhost:8080/",
          "height": 450
        },
        "id": "KlpN3Qp0uyEu",
        "outputId": "da5f6fea-b795-497f-f532-2c9f1b587ea2"
      },
      "execution_count": 72,
      "outputs": [
        {
          "output_type": "display_data",
          "data": {
            "text/plain": [
              "<Figure size 640x480 with 1 Axes>"
            ],
            "image/png": "[encoded data removed]"
          },
          "metadata": {}
        }
      ]
    },
    {
      "cell_type": "code",
      "source": [
        "# importing packages\n",
        "import seaborn as sns\n",
        "import matplotlib.pyplot as plt\n",
        "\n",
        "sns.histplot(data = headline_newdata, y=\"headline\", x = \"click_rate\",hue = None,color=\"red\")\n",
        "plt.show()\n"
      ],
      "metadata": {
        "colab": {
          "base_uri": "https://localhost:8080/",
          "height": 450
        },
        "id": "wHifriborKVp",
        "outputId": "c7498f61-8432-4849-bc07-cb960287be8a"
      },
      "execution_count": 60,
      "outputs": [
        {
          "output_type": "display_data",
          "data": {
            "text/plain": [
              "<Figure size 640x480 with 1 Axes>"
            ],
            "image/png": "[encoded data removed]"
          },
          "metadata": {}
        }
      ]
    },
    {
      "cell_type": "code",
      "source": [
        "sns.pairplot(data = headline_newdata,hue=None)\n",
        "plt.show()"
      ],
      "metadata": {
        "colab": {
          "base_uri": "https://localhost:8080/",
          "height": 513
        },
        "id": "c-o1BY5ftsST",
        "outputId": "632d7a5a-30e4-4147-cb48-2982ad37c95e"
      },
      "execution_count": 69,
      "outputs": [
        {
          "output_type": "display_data",
          "data": {
            "text/plain": [
              "<Figure size 500x500 with 6 Axes>"
            ],
            "image/png": "[encoded data removed]"
          },
          "metadata": {}
        }
      ]
    },
    {
      "cell_type": "code",
      "source": [
        "# This code creates the above table:\n",
        "data = { 'person': [1, 2, 3, 4, 5, 6, 7, 8, 9, 10],'rev_if_qa': [1100, 100, 500, 100, 1600, 2000, 1200, 700, 1100,\n",
        "140],'rev_if_noqa': [1100, 600, 500, 900, 700, 2000, 1200, 700, 300,140]}\n",
        "df = pd.DataFrame(data)\n",
        "print(df)"
      ],
      "metadata": {
        "colab": {
          "base_uri": "https://localhost:8080/"
        },
        "id": "q0rzpP_CwomY",
        "outputId": "371088f7-d12c-44b4-e02c-73ed09c03639"
      },
      "execution_count": 74,
      "outputs": [
        {
          "output_type": "stream",
          "name": "stdout",
          "text": [
            "   person  rev_if_qa  rev_if_noqa\n",
            "0       1       1100         1100\n",
            "1       2        100          600\n",
            "2       3        500          500\n",
            "3       4        100          900\n",
            "4       5       1600          700\n",
            "5       6       2000         2000\n",
            "6       7       1200         1200\n",
            "7       8        700          700\n",
            "8       9       1100          300\n",
            "9      10        140          140\n"
          ]
        }
      ]
    },
    {
      "cell_type": "markdown",
      "source": [
        "2.1: What do User 2’s two potential outcomes mean in plain language?"
      ],
      "metadata": {
        "id": "zV4sPxSBv3G6"
      }
    },
    {
      "cell_type": "markdown",
      "source": [
        "Answer: The observation for User 2 shows that the revenue was 600 when the user did not view the Q&A, but only 100 when the user did view the Q&A. For User 2, this results in a drop in revenue.\n",
        "For User 2, this suggests that Wayfair's causal claim or hypothesis—that offering a question and answer part on each furniture page would encourage customers to buy more furniture—is untrue.\n"
      ],
      "metadata": {
        "id": "EI9wwWHav3AE"
      }
    },
    {
      "cell_type": "markdown",
      "source": [
        "2.2: Give the individual true treatment effect (that is, the true “impact” or “causal effect” of Q&A) for each of the ten users. We are thinking of the “Treatment” as seeing the Q&A."
      ],
      "metadata": {
        "id": "6DhPIC32zVL2"
      }
    },
    {
      "cell_type": "code",
      "source": [
        "df['treatment_effect'] = df['rev_if_qa']- df['rev_if_noqa']\n",
        "print(df)"
      ],
      "metadata": {
        "colab": {
          "base_uri": "https://localhost:8080/"
        },
        "id": "3W8wytzdzUMZ",
        "outputId": "74f85cd5-6f87-4d8e-c03d-dea910eff0fe"
      },
      "execution_count": 77,
      "outputs": [
        {
          "output_type": "stream",
          "name": "stdout",
          "text": [
            "   person  rev_if_qa  rev_if_noqa  treatment_effect\n",
            "0       1       1100         1100                 0\n",
            "1       2        100          600              -500\n",
            "2       3        500          500                 0\n",
            "3       4        100          900              -800\n",
            "4       5       1600          700               900\n",
            "5       6       2000         2000                 0\n",
            "6       7       1200         1200                 0\n",
            "7       8        700          700                 0\n",
            "8       9       1100          300               800\n",
            "9      10        140          140                 0\n"
          ]
        }
      ]
    },
    {
      "cell_type": "code",
      "source": [
        "dataframe = df[['person','treatment_effect']]\n",
        "print(dataframe)"
      ],
      "metadata": {
        "colab": {
          "base_uri": "https://localhost:8080/"
        },
        "id": "O3Y7yPgHzxYW",
        "outputId": "14134aaf-d8d1-4987-f2ad-c476f8364e8e"
      },
      "execution_count": 79,
      "outputs": [
        {
          "output_type": "stream",
          "name": "stdout",
          "text": [
            "   person  treatment_effect\n",
            "0       1                 0\n",
            "1       2              -500\n",
            "2       3                 0\n",
            "3       4              -800\n",
            "4       5               900\n",
            "5       6                 0\n",
            "6       7                 0\n",
            "7       8                 0\n",
            "8       9               800\n",
            "9      10                 0\n"
          ]
        }
      ]
    },
    {
      "cell_type": "markdown",
      "source": [
        "2.3: In a single paragraph, tell a story that could explain this distribution of treatment effects. What might cause some users to have different treatment effects than others?"
      ],
      "metadata": {
        "id": "_Du9HpfQz-yU"
      }
    },
    {
      "cell_type": "markdown",
      "source": [
        "Answer: Regardless of whether they were exposed to the Q&A portion or not, certain users (User 1, 3, and 6) showed consistent revenue, indicating that the presence or absence of Q&A did not significantly impact their purchasing behavior. But after seeing the Q&A, users like User 2 and User 4 saw a decline in revenue. The observed variation in treatment outcomes may be ascribed to various factors, including user involvement and product knowledge with Wayfair. It's possible that some users didn't find the Q&A section intriguing, especially if they were brand-new clients with little experience with Wayfair's furniture selection. Furthermore, several users may have been influenced by financial limitations or limited budgets, which could have had a detrimental treatment effect.\n",
        "However, devoted consumers who make frequent purchases from Wayfair might have shown a favorable treatment effect by showing greater interest in the extra details included in the Q&A. The fact that treatment effects vary so much shows that Q&A's influence is not constant and is influenced by both external factors and user-specific traits. These subtleties in user responses are further illustrated by the seaborn display of therapy effects.\n"
      ],
      "metadata": {
        "id": "9PRHIBaL8XZ6"
      }
    },
    {
      "cell_type": "code",
      "source": [
        "sns.set_style(\"whitegrid\")\n",
        "sns.lineplot(x=df['person'], y=df['treatment_effect'],palette=\"tab10\")\n",
        "plt.xlabel('Person')\n",
        "plt.ylabel('Treatment Effect')\n",
        "plt.show()"
      ],
      "metadata": {
        "colab": {
          "base_uri": "https://localhost:8080/",
          "height": 484
        },
        "id": "nhlr54Ow0APV",
        "outputId": "0756298c-cbc9-4f8f-ea9e-a6e3d2c5becd"
      },
      "execution_count": 87,
      "outputs": [
        {
          "output_type": "stream",
          "name": "stderr",
          "text": [
            "<ipython-input-87-330b77d5942a>:2: UserWarning: Ignoring `palette` because no `hue` variable has been assigned.\n",
            "  sns.lineplot(x=df['person'], y=df['treatment_effect'],palette=\"tab10\")\n"
          ]
        },
        {
          "output_type": "display_data",
          "data": {
            "text/plain": [
              "<Figure size 640x480 with 1 Axes>"
            ],
            "image/png": "[encoded data removed]"
          },
          "metadata": {}
        }
      ]
    },
    {
      "cell_type": "markdown",
      "source": [
        "2.4: For this population of 10 users, what is the true average treatment effect (ATE) of seeing Q&A?"
      ],
      "metadata": {
        "id": "A-3YWML332rK"
      }
    },
    {
      "cell_type": "code",
      "source": [
        "# Calculate true Average Treatment Effect (ATE)\n",
        "ATE = dataframe['treatment_effect'].mean()\n",
        "print(f'The True Average Treatment Effect (ATE) is: {ATE}')"
      ],
      "metadata": {
        "colab": {
          "base_uri": "https://localhost:8080/"
        },
        "id": "bcrceAug4ANy",
        "outputId": "3c9ac348-4450-4357-e8e9-95ba4ce2639f"
      },
      "execution_count": 88,
      "outputs": [
        {
          "output_type": "stream",
          "name": "stdout",
          "text": [
            "The True Average Treatment Effect (ATE) is: 40.0\n"
          ]
        }
      ]
    },
    {
      "cell_type": "markdown",
      "source": [
        "2.5: Suppose that Wayfair implements an experiment in which users are randomly assigned to Treatment and Control groups. Assume that by chance (that is, suppose this is random) the odd-numbered users are assigned to Treatment (Q&A) and the even-numbered users to Control (no Q&A). What is the estimate of the ATE you would reach under that particular assignment? (Again, please show your work.)\n"
      ],
      "metadata": {
        "id": "DUbl9MdM4XOY"
      }
    },
    {
      "cell_type": "code",
      "source": [
        "# the odd-numbered users are assigned to Treatment (Q&A) and the even-numbered users to Control (no Q&A)\n",
        "treatment_user = df[df['person'] % 2 != 0]\n",
        "control_user = df[df['person'] % 2 == 0]\n",
        "# Calculate Average Treatment Effect (ATE)\n",
        "ATE_est = treatment_user['rev_if_qa'].mean() - control_user['rev_if_noqa'].mean()\n",
        "print(f'The Estimated Average Treatment Effect (E-ATE) is:{ATE_est}')"
      ],
      "metadata": {
        "colab": {
          "base_uri": "https://localhost:8080/"
        },
        "id": "pCBmZS8G4Yj2",
        "outputId": "5280536a-18d6-43d9-d1e9-4d0023a190a2"
      },
      "execution_count": 96,
      "outputs": [
        {
          "output_type": "stream",
          "name": "stdout",
          "text": [
            "The Estimated Average Treatment Effect (E-ATE) is:232.0\n"
          ]
        }
      ]
    },
    {
      "cell_type": "markdown",
      "source": [
        "2.6: Please use the function np.quantile in Python to calculate the 30th quantile of the treatment effects in the Q&A example."
      ],
      "metadata": {
        "id": "YCUG9pZL5vc9"
      }
    },
    {
      "cell_type": "code",
      "source": [
        "# 30th quantile of treatment effects\n",
        "Quantile_30 = np.quantile(df['treatment_effect'], 0.3)\n",
        "print(f'The 30th quantile of the treatment effects is: {Quantile_30}')"
      ],
      "metadata": {
        "colab": {
          "base_uri": "https://localhost:8080/"
        },
        "id": "AFgIRdEo5vDZ",
        "outputId": "9b5be2c9-04bc-4399-b8f9-8c142f3a8431"
      },
      "execution_count": 98,
      "outputs": [
        {
          "output_type": "stream",
          "name": "stdout",
          "text": [
            "The 30th quantile of the treatment effects is: 0.0\n"
          ]
        }
      ]
    },
    {
      "cell_type": "markdown",
      "source": [
        "How long did this assignment take you to do (hours)? How hard was it (easy, reasonable, hard, too hard)?"
      ],
      "metadata": {
        "id": "a6l5b2Pf6x3T"
      }
    },
    {
      "cell_type": "markdown",
      "source": [
        "I worked on this task for around two and half hours.I had to review the slides from the lesson. Since this is our first assignment for the class, I would say the assignment was a mix of simple and realistic.\n"
      ],
      "metadata": {
        "id": "NlSXgeht7ldX"
      }
    }
  ]
}
